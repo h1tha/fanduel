{
 "cells": [
  {
   "cell_type": "code",
   "execution_count": 1,
   "id": "593a88b4",
   "metadata": {},
   "outputs": [],
   "source": [
    "import numpy as np\n",
    "import pandas as pd\n",
    "\n",
    "import matplotlib.pyplot as plt\n",
    "import seaborn as sns\n",
    "\n",
    "# from sklearn.model_selection import train_test_split, cross_val_score\n",
    "# from sklearn.linear_model import LinearRegression\n",
    "# from sklearn.preprocessing import StandardScaler, PolynomialFeatures\n",
    "from sklearn.cluster import KMeans"
   ]
  },
  {
   "cell_type": "code",
   "execution_count": 2,
   "id": "16dd8edd",
   "metadata": {},
   "outputs": [
    {
     "data": {
      "text/html": [
       "<div>\n",
       "<style scoped>\n",
       "    .dataframe tbody tr th:only-of-type {\n",
       "        vertical-align: middle;\n",
       "    }\n",
       "\n",
       "    .dataframe tbody tr th {\n",
       "        vertical-align: top;\n",
       "    }\n",
       "\n",
       "    .dataframe thead th {\n",
       "        text-align: right;\n",
       "    }\n",
       "</style>\n",
       "<table border=\"1\" class=\"dataframe\">\n",
       "  <thead>\n",
       "    <tr style=\"text-align: right;\">\n",
       "      <th></th>\n",
       "      <th>state</th>\n",
       "      <th>playerid</th>\n",
       "      <th>wagerid</th>\n",
       "      <th>event_start</th>\n",
       "      <th>placed_date</th>\n",
       "      <th>settled_date</th>\n",
       "      <th>sportname</th>\n",
       "      <th>bet_type</th>\n",
       "      <th>result</th>\n",
       "      <th>net_stake</th>\n",
       "      <th>ggr</th>\n",
       "      <th>legresult</th>\n",
       "      <th>decimalodds</th>\n",
       "    </tr>\n",
       "  </thead>\n",
       "  <tbody>\n",
       "    <tr>\n",
       "      <th>0</th>\n",
       "      <td>State1</td>\n",
       "      <td>3.065121e+07</td>\n",
       "      <td>1.693004e+06</td>\n",
       "      <td>2021-04-28 00:30:00+00</td>\n",
       "      <td>2021-04-27</td>\n",
       "      <td>2021-04-27</td>\n",
       "      <td>nhl</td>\n",
       "      <td>straight</td>\n",
       "      <td>won</td>\n",
       "      <td>6.64</td>\n",
       "      <td>-4.96</td>\n",
       "      <td>won</td>\n",
       "      <td>1.74627</td>\n",
       "    </tr>\n",
       "    <tr>\n",
       "      <th>1</th>\n",
       "      <td>State1</td>\n",
       "      <td>2.223717e+07</td>\n",
       "      <td>1.696371e+06</td>\n",
       "      <td>2021-04-28 01:45:00+00</td>\n",
       "      <td>2021-04-27</td>\n",
       "      <td>2021-04-27</td>\n",
       "      <td>nba</td>\n",
       "      <td>parlay</td>\n",
       "      <td>lost</td>\n",
       "      <td>5.00</td>\n",
       "      <td>5.00</td>\n",
       "      <td>won</td>\n",
       "      <td>1.78125</td>\n",
       "    </tr>\n",
       "    <tr>\n",
       "      <th>2</th>\n",
       "      <td>State1</td>\n",
       "      <td>2.223717e+07</td>\n",
       "      <td>1.696371e+06</td>\n",
       "      <td>2021-04-28 01:45:00+00</td>\n",
       "      <td>2021-04-27</td>\n",
       "      <td>2021-04-27</td>\n",
       "      <td>nba</td>\n",
       "      <td>parlay</td>\n",
       "      <td>lost</td>\n",
       "      <td>5.00</td>\n",
       "      <td>5.00</td>\n",
       "      <td>lost</td>\n",
       "      <td>1.86207</td>\n",
       "    </tr>\n",
       "    <tr>\n",
       "      <th>3</th>\n",
       "      <td>State1</td>\n",
       "      <td>2.223717e+07</td>\n",
       "      <td>1.696371e+06</td>\n",
       "      <td>2021-04-28 01:45:00+00</td>\n",
       "      <td>2021-04-27</td>\n",
       "      <td>2021-04-27</td>\n",
       "      <td>nba</td>\n",
       "      <td>parlay</td>\n",
       "      <td>lost</td>\n",
       "      <td>5.00</td>\n",
       "      <td>5.00</td>\n",
       "      <td>lost</td>\n",
       "      <td>1.74627</td>\n",
       "    </tr>\n",
       "    <tr>\n",
       "      <th>4</th>\n",
       "      <td>State1</td>\n",
       "      <td>2.223717e+07</td>\n",
       "      <td>1.696371e+06</td>\n",
       "      <td>2021-04-28 01:45:00+00</td>\n",
       "      <td>2021-04-27</td>\n",
       "      <td>2021-04-27</td>\n",
       "      <td>nba</td>\n",
       "      <td>parlay</td>\n",
       "      <td>lost</td>\n",
       "      <td>5.00</td>\n",
       "      <td>5.00</td>\n",
       "      <td>lost</td>\n",
       "      <td>1.78125</td>\n",
       "    </tr>\n",
       "    <tr>\n",
       "      <th>5</th>\n",
       "      <td>State1</td>\n",
       "      <td>4.682365e+06</td>\n",
       "      <td>1.696652e+06</td>\n",
       "      <td>2021-04-27 23:21:00+00</td>\n",
       "      <td>2021-04-27</td>\n",
       "      <td>2021-04-27</td>\n",
       "      <td>mlb</td>\n",
       "      <td>straight</td>\n",
       "      <td>won</td>\n",
       "      <td>5.00</td>\n",
       "      <td>-2.87</td>\n",
       "      <td>won</td>\n",
       "      <td>1.57471</td>\n",
       "    </tr>\n",
       "    <tr>\n",
       "      <th>6</th>\n",
       "      <td>State1</td>\n",
       "      <td>4.682365e+06</td>\n",
       "      <td>1.696680e+06</td>\n",
       "      <td>2021-04-27 23:21:00+00</td>\n",
       "      <td>2021-04-27</td>\n",
       "      <td>2021-04-27</td>\n",
       "      <td>mlb</td>\n",
       "      <td>straight</td>\n",
       "      <td>won</td>\n",
       "      <td>5.00</td>\n",
       "      <td>-1.28</td>\n",
       "      <td>won</td>\n",
       "      <td>1.25641</td>\n",
       "    </tr>\n",
       "    <tr>\n",
       "      <th>7</th>\n",
       "      <td>State1</td>\n",
       "      <td>2.224106e+07</td>\n",
       "      <td>1.701957e+06</td>\n",
       "      <td>2021-04-27 19:00:00+00</td>\n",
       "      <td>2021-04-27</td>\n",
       "      <td>2021-04-27</td>\n",
       "      <td>champions league</td>\n",
       "      <td>straight</td>\n",
       "      <td>lost</td>\n",
       "      <td>5.00</td>\n",
       "      <td>5.00</td>\n",
       "      <td>lost</td>\n",
       "      <td>2.50000</td>\n",
       "    </tr>\n",
       "    <tr>\n",
       "      <th>8</th>\n",
       "      <td>State1</td>\n",
       "      <td>2.549285e+07</td>\n",
       "      <td>1.702804e+06</td>\n",
       "      <td>2021-04-28 01:45:00+00</td>\n",
       "      <td>2021-04-27</td>\n",
       "      <td>2021-04-27</td>\n",
       "      <td>nba</td>\n",
       "      <td>straight</td>\n",
       "      <td>lost</td>\n",
       "      <td>10.00</td>\n",
       "      <td>10.00</td>\n",
       "      <td>lost</td>\n",
       "      <td>1.71429</td>\n",
       "    </tr>\n",
       "    <tr>\n",
       "      <th>9</th>\n",
       "      <td>State1</td>\n",
       "      <td>2.549285e+07</td>\n",
       "      <td>1.702826e+06</td>\n",
       "      <td>2021-04-28 01:45:00+00</td>\n",
       "      <td>2021-04-27</td>\n",
       "      <td>2021-04-27</td>\n",
       "      <td>nba</td>\n",
       "      <td>straight</td>\n",
       "      <td>lost</td>\n",
       "      <td>10.00</td>\n",
       "      <td>10.00</td>\n",
       "      <td>lost</td>\n",
       "      <td>1.96154</td>\n",
       "    </tr>\n",
       "  </tbody>\n",
       "</table>\n",
       "</div>"
      ],
      "text/plain": [
       "    state      playerid       wagerid             event_start placed_date  \\\n",
       "0  State1  3.065121e+07  1.693004e+06  2021-04-28 00:30:00+00  2021-04-27   \n",
       "1  State1  2.223717e+07  1.696371e+06  2021-04-28 01:45:00+00  2021-04-27   \n",
       "2  State1  2.223717e+07  1.696371e+06  2021-04-28 01:45:00+00  2021-04-27   \n",
       "3  State1  2.223717e+07  1.696371e+06  2021-04-28 01:45:00+00  2021-04-27   \n",
       "4  State1  2.223717e+07  1.696371e+06  2021-04-28 01:45:00+00  2021-04-27   \n",
       "5  State1  4.682365e+06  1.696652e+06  2021-04-27 23:21:00+00  2021-04-27   \n",
       "6  State1  4.682365e+06  1.696680e+06  2021-04-27 23:21:00+00  2021-04-27   \n",
       "7  State1  2.224106e+07  1.701957e+06  2021-04-27 19:00:00+00  2021-04-27   \n",
       "8  State1  2.549285e+07  1.702804e+06  2021-04-28 01:45:00+00  2021-04-27   \n",
       "9  State1  2.549285e+07  1.702826e+06  2021-04-28 01:45:00+00  2021-04-27   \n",
       "\n",
       "  settled_date         sportname  bet_type result  net_stake    ggr legresult  \\\n",
       "0   2021-04-27               nhl  straight    won       6.64  -4.96       won   \n",
       "1   2021-04-27               nba    parlay   lost       5.00   5.00       won   \n",
       "2   2021-04-27               nba    parlay   lost       5.00   5.00      lost   \n",
       "3   2021-04-27               nba    parlay   lost       5.00   5.00      lost   \n",
       "4   2021-04-27               nba    parlay   lost       5.00   5.00      lost   \n",
       "5   2021-04-27               mlb  straight    won       5.00  -2.87       won   \n",
       "6   2021-04-27               mlb  straight    won       5.00  -1.28       won   \n",
       "7   2021-04-27  champions league  straight   lost       5.00   5.00      lost   \n",
       "8   2021-04-27               nba  straight   lost      10.00  10.00      lost   \n",
       "9   2021-04-27               nba  straight   lost      10.00  10.00      lost   \n",
       "\n",
       "   decimalodds  \n",
       "0      1.74627  \n",
       "1      1.78125  \n",
       "2      1.86207  \n",
       "3      1.74627  \n",
       "4      1.78125  \n",
       "5      1.57471  \n",
       "6      1.25641  \n",
       "7      2.50000  \n",
       "8      1.71429  \n",
       "9      1.96154  "
      ]
     },
     "execution_count": 2,
     "metadata": {},
     "output_type": "execute_result"
    }
   ],
   "source": [
    "df = pd.read_csv('ProjectDataset.csv')\n",
    "df.head(10)"
   ]
  },
  {
   "cell_type": "code",
   "execution_count": 3,
   "id": "9a17ff6c",
   "metadata": {},
   "outputs": [
    {
     "name": "stdout",
     "output_type": "stream",
     "text": [
      "<class 'pandas.core.frame.DataFrame'>\n",
      "RangeIndex: 4174500 entries, 0 to 4174499\n",
      "Data columns (total 13 columns):\n",
      " #   Column        Dtype  \n",
      "---  ------        -----  \n",
      " 0   state         object \n",
      " 1   playerid      float64\n",
      " 2   wagerid       float64\n",
      " 3   event_start   object \n",
      " 4   placed_date   object \n",
      " 5   settled_date  object \n",
      " 6   sportname     object \n",
      " 7   bet_type      object \n",
      " 8   result        object \n",
      " 9   net_stake     float64\n",
      " 10  ggr           float64\n",
      " 11  legresult     object \n",
      " 12  decimalodds   float64\n",
      "dtypes: float64(5), object(8)\n",
      "memory usage: 414.0+ MB\n"
     ]
    }
   ],
   "source": [
    "df.info()"
   ]
  },
  {
   "cell_type": "code",
   "execution_count": 19,
   "id": "87a0ecdc",
   "metadata": {},
   "outputs": [],
   "source": [
    "# converting placed_date and settled_date to datetime objects for convenience later\n",
    "\n",
    "df['placed_date'] = pd.to_datetime(df['placed_date'])\n",
    "df['settled_date'] = pd.to_datetime(df['settled_date'])"
   ]
  },
  {
   "cell_type": "code",
   "execution_count": 4,
   "id": "c7b57f5a",
   "metadata": {},
   "outputs": [
    {
     "data": {
      "text/plain": [
       "state                 3\n",
       "playerid          36387\n",
       "wagerid         2402300\n",
       "event_start       11991\n",
       "placed_date         366\n",
       "settled_date        367\n",
       "sportname             7\n",
       "bet_type              2\n",
       "result                2\n",
       "net_stake         31701\n",
       "ggr               96979\n",
       "legresult             5\n",
       "decimalodds       18694\n",
       "dtype: int64"
      ]
     },
     "execution_count": 4,
     "metadata": {},
     "output_type": "execute_result"
    }
   ],
   "source": [
    "df.nunique()"
   ]
  },
  {
   "cell_type": "code",
   "execution_count": 5,
   "id": "ffe09cea",
   "metadata": {},
   "outputs": [
    {
     "data": {
      "text/html": [
       "<div>\n",
       "<style scoped>\n",
       "    .dataframe tbody tr th:only-of-type {\n",
       "        vertical-align: middle;\n",
       "    }\n",
       "\n",
       "    .dataframe tbody tr th {\n",
       "        vertical-align: top;\n",
       "    }\n",
       "\n",
       "    .dataframe thead th {\n",
       "        text-align: right;\n",
       "    }\n",
       "</style>\n",
       "<table border=\"1\" class=\"dataframe\">\n",
       "  <thead>\n",
       "    <tr style=\"text-align: right;\">\n",
       "      <th></th>\n",
       "      <th>playerid</th>\n",
       "      <th>wagerid</th>\n",
       "      <th>net_stake</th>\n",
       "      <th>ggr</th>\n",
       "      <th>decimalodds</th>\n",
       "    </tr>\n",
       "  </thead>\n",
       "  <tbody>\n",
       "    <tr>\n",
       "      <th>count</th>\n",
       "      <td>4.174500e+06</td>\n",
       "      <td>4.174500e+06</td>\n",
       "      <td>4.174500e+06</td>\n",
       "      <td>4.174500e+06</td>\n",
       "      <td>4.172028e+06</td>\n",
       "    </tr>\n",
       "    <tr>\n",
       "      <th>mean</th>\n",
       "      <td>2.273927e+07</td>\n",
       "      <td>4.754173e+07</td>\n",
       "      <td>2.361655e+01</td>\n",
       "      <td>2.451643e+00</td>\n",
       "      <td>3.984459e+00</td>\n",
       "    </tr>\n",
       "    <tr>\n",
       "      <th>std</th>\n",
       "      <td>1.033895e+07</td>\n",
       "      <td>3.675171e+07</td>\n",
       "      <td>8.189246e+01</td>\n",
       "      <td>8.532259e+01</td>\n",
       "      <td>1.602930e+01</td>\n",
       "    </tr>\n",
       "    <tr>\n",
       "      <th>min</th>\n",
       "      <td>5.971640e+04</td>\n",
       "      <td>1.691622e+06</td>\n",
       "      <td>4.001000e+00</td>\n",
       "      <td>-2.100000e+04</td>\n",
       "      <td>1.000100e+00</td>\n",
       "    </tr>\n",
       "    <tr>\n",
       "      <th>25%</th>\n",
       "      <td>1.750210e+07</td>\n",
       "      <td>2.296253e+07</td>\n",
       "      <td>5.000000e+00</td>\n",
       "      <td>0.000000e+00</td>\n",
       "      <td>1.649350e+00</td>\n",
       "    </tr>\n",
       "    <tr>\n",
       "      <th>50%</th>\n",
       "      <td>2.379874e+07</td>\n",
       "      <td>3.859404e+07</td>\n",
       "      <td>1.000000e+01</td>\n",
       "      <td>6.000000e+00</td>\n",
       "      <td>1.909090e+00</td>\n",
       "    </tr>\n",
       "    <tr>\n",
       "      <th>75%</th>\n",
       "      <td>3.064089e+07</td>\n",
       "      <td>5.861577e+07</td>\n",
       "      <td>2.000000e+01</td>\n",
       "      <td>1.200000e+01</td>\n",
       "      <td>2.200000e+00</td>\n",
       "    </tr>\n",
       "    <tr>\n",
       "      <th>max</th>\n",
       "      <td>4.297671e+07</td>\n",
       "      <td>1.779192e+08</td>\n",
       "      <td>1.967200e+04</td>\n",
       "      <td>1.967200e+04</td>\n",
       "      <td>5.001000e+03</td>\n",
       "    </tr>\n",
       "  </tbody>\n",
       "</table>\n",
       "</div>"
      ],
      "text/plain": [
       "           playerid       wagerid     net_stake           ggr   decimalodds\n",
       "count  4.174500e+06  4.174500e+06  4.174500e+06  4.174500e+06  4.172028e+06\n",
       "mean   2.273927e+07  4.754173e+07  2.361655e+01  2.451643e+00  3.984459e+00\n",
       "std    1.033895e+07  3.675171e+07  8.189246e+01  8.532259e+01  1.602930e+01\n",
       "min    5.971640e+04  1.691622e+06  4.001000e+00 -2.100000e+04  1.000100e+00\n",
       "25%    1.750210e+07  2.296253e+07  5.000000e+00  0.000000e+00  1.649350e+00\n",
       "50%    2.379874e+07  3.859404e+07  1.000000e+01  6.000000e+00  1.909090e+00\n",
       "75%    3.064089e+07  5.861577e+07  2.000000e+01  1.200000e+01  2.200000e+00\n",
       "max    4.297671e+07  1.779192e+08  1.967200e+04  1.967200e+04  5.001000e+03"
      ]
     },
     "execution_count": 5,
     "metadata": {},
     "output_type": "execute_result"
    }
   ],
   "source": [
    "df.describe()"
   ]
  },
  {
   "cell_type": "code",
   "execution_count": 23,
   "id": "7026c65c",
   "metadata": {},
   "outputs": [],
   "source": [
    "# should i convert playerid and wagerid to string objects?"
   ]
  },
  {
   "cell_type": "code",
   "execution_count": 12,
   "id": "d52c4495",
   "metadata": {},
   "outputs": [
    {
     "data": {
      "text/plain": [
       "nfl                   0.329091\n",
       "nba                   0.325649\n",
       "college basketball    0.119011\n",
       "mlb                   0.113918\n",
       "college football      0.062496\n",
       "nhl                   0.044950\n",
       "champions league      0.004885\n",
       "Name: sportname, dtype: float64"
      ]
     },
     "execution_count": 12,
     "metadata": {},
     "output_type": "execute_result"
    }
   ],
   "source": [
    "df['sportname'].value_counts(normalize=True)"
   ]
  },
  {
   "cell_type": "code",
   "execution_count": 11,
   "id": "c964f53d",
   "metadata": {},
   "outputs": [
    {
     "data": {
      "text/plain": [
       "<AxesSubplot:>"
      ]
     },
     "execution_count": 11,
     "metadata": {},
     "output_type": "execute_result"
    },
    {
     "data": {
      "image/png": "[encoded data removed]",
      "text/plain": [
       "<Figure size 432x288 with 1 Axes>"
      ]
     },
     "metadata": {
      "needs_background": "light"
     },
     "output_type": "display_data"
    }
   ],
   "source": [
    "df['sportname'].value_counts().plot(kind='barh')"
   ]
  },
  {
   "cell_type": "code",
   "execution_count": 17,
   "id": "fc53b387",
   "metadata": {},
   "outputs": [
    {
     "data": {
      "text/plain": [
       "<seaborn.axisgrid.FacetGrid at 0x7fa6a8577cd0>"
      ]
     },
     "execution_count": 17,
     "metadata": {},
     "output_type": "execute_result"
    },
    {
     "data": {
      "image/png": "[encoded data removed]",
      "text/plain": [
       "<Figure size 360x360 with 1 Axes>"
      ]
     },
     "metadata": {
      "needs_background": "light"
     },
     "output_type": "display_data"
    }
   ],
   "source": [
    "sns.catplot(data=df, x=\"sportname\", y=\"ggr\")"
   ]
  },
  {
   "cell_type": "code",
   "execution_count": 20,
   "id": "034f3cc2",
   "metadata": {},
   "outputs": [
    {
     "data": {
      "text/plain": [
       "<AxesSubplot:xlabel='placed_date', ylabel='net_stake'>"
      ]
     },
     "execution_count": 20,
     "metadata": {},
     "output_type": "execute_result"
    },
    {
     "data": {
      "image/png": "[encoded data removed]",
      "text/plain": [
       "<Figure size 432x288 with 1 Axes>"
      ]
     },
     "metadata": {
      "needs_background": "light"
     },
     "output_type": "display_data"
    }
   ],
   "source": [
    "sns.catplot(data=df, x='placed_date', y='net_stake')"
   ]
  },
  {
   "cell_type": "code",
   "execution_count": 24,
   "id": "addc7264",
   "metadata": {},
   "outputs": [
    {
     "name": "stderr",
     "output_type": "stream",
     "text": [
      "/var/folders/q4/3qhdj_kd6_56b822k50hsf780000gn/T/ipykernel_12259/391136239.py:1: FutureWarning: Indexing with multiple keys (implicitly converted to a tuple of keys) will be deprecated, use a list instead.\n",
      "  df.groupby(['sportname'])['net_stake', 'ggr', 'decimalodds'].mean()\n"
     ]
    },
    {
     "data": {
      "text/html": [
       "<div>\n",
       "<style scoped>\n",
       "    .dataframe tbody tr th:only-of-type {\n",
       "        vertical-align: middle;\n",
       "    }\n",
       "\n",
       "    .dataframe tbody tr th {\n",
       "        vertical-align: top;\n",
       "    }\n",
       "\n",
       "    .dataframe thead th {\n",
       "        text-align: right;\n",
       "    }\n",
       "</style>\n",
       "<table border=\"1\" class=\"dataframe\">\n",
       "  <thead>\n",
       "    <tr style=\"text-align: right;\">\n",
       "      <th></th>\n",
       "      <th>net_stake</th>\n",
       "      <th>ggr</th>\n",
       "      <th>decimalodds</th>\n",
       "    </tr>\n",
       "    <tr>\n",
       "      <th>sportname</th>\n",
       "      <th></th>\n",
       "      <th></th>\n",
       "      <th></th>\n",
       "    </tr>\n",
       "  </thead>\n",
       "  <tbody>\n",
       "    <tr>\n",
       "      <th>champions league</th>\n",
       "      <td>20.681601</td>\n",
       "      <td>3.639906</td>\n",
       "      <td>3.536511</td>\n",
       "    </tr>\n",
       "    <tr>\n",
       "      <th>college basketball</th>\n",
       "      <td>27.771355</td>\n",
       "      <td>1.637004</td>\n",
       "      <td>2.322310</td>\n",
       "    </tr>\n",
       "    <tr>\n",
       "      <th>college football</th>\n",
       "      <td>30.434304</td>\n",
       "      <td>2.369812</td>\n",
       "      <td>2.297570</td>\n",
       "    </tr>\n",
       "    <tr>\n",
       "      <th>mlb</th>\n",
       "      <td>24.318649</td>\n",
       "      <td>2.559210</td>\n",
       "      <td>2.608363</td>\n",
       "    </tr>\n",
       "    <tr>\n",
       "      <th>nba</th>\n",
       "      <td>21.312787</td>\n",
       "      <td>2.407713</td>\n",
       "      <td>3.210320</td>\n",
       "    </tr>\n",
       "    <tr>\n",
       "      <th>nfl</th>\n",
       "      <td>23.111105</td>\n",
       "      <td>2.742356</td>\n",
       "      <td>6.329629</td>\n",
       "    </tr>\n",
       "    <tr>\n",
       "      <th>nhl</th>\n",
       "      <td>22.067333</td>\n",
       "      <td>2.510377</td>\n",
       "      <td>2.692234</td>\n",
       "    </tr>\n",
       "  </tbody>\n",
       "</table>\n",
       "</div>"
      ],
      "text/plain": [
       "                    net_stake       ggr  decimalodds\n",
       "sportname                                           \n",
       "champions league    20.681601  3.639906     3.536511\n",
       "college basketball  27.771355  1.637004     2.322310\n",
       "college football    30.434304  2.369812     2.297570\n",
       "mlb                 24.318649  2.559210     2.608363\n",
       "nba                 21.312787  2.407713     3.210320\n",
       "nfl                 23.111105  2.742356     6.329629\n",
       "nhl                 22.067333  2.510377     2.692234"
      ]
     },
     "execution_count": 24,
     "metadata": {},
     "output_type": "execute_result"
    }
   ],
   "source": [
    "df.groupby(['sportname'])['net_stake', 'ggr', 'decimalodds'].mean()"
   ]
  },
  {
   "cell_type": "code",
   "execution_count": 25,
   "id": "77740152",
   "metadata": {},
   "outputs": [
    {
     "name": "stderr",
     "output_type": "stream",
     "text": [
      "/var/folders/q4/3qhdj_kd6_56b822k50hsf780000gn/T/ipykernel_12259/74133145.py:1: FutureWarning: Indexing with multiple keys (implicitly converted to a tuple of keys) will be deprecated, use a list instead.\n",
      "  df.groupby(['sportname'])['net_stake', 'ggr', 'decimalodds'].min()\n"
     ]
    },
    {
     "data": {
      "text/html": [
       "<div>\n",
       "<style scoped>\n",
       "    .dataframe tbody tr th:only-of-type {\n",
       "        vertical-align: middle;\n",
       "    }\n",
       "\n",
       "    .dataframe tbody tr th {\n",
       "        vertical-align: top;\n",
       "    }\n",
       "\n",
       "    .dataframe thead th {\n",
       "        text-align: right;\n",
       "    }\n",
       "</style>\n",
       "<table border=\"1\" class=\"dataframe\">\n",
       "  <thead>\n",
       "    <tr style=\"text-align: right;\">\n",
       "      <th></th>\n",
       "      <th>net_stake</th>\n",
       "      <th>ggr</th>\n",
       "      <th>decimalodds</th>\n",
       "    </tr>\n",
       "    <tr>\n",
       "      <th>sportname</th>\n",
       "      <th></th>\n",
       "      <th></th>\n",
       "      <th></th>\n",
       "    </tr>\n",
       "  </thead>\n",
       "  <tbody>\n",
       "    <tr>\n",
       "      <th>champions league</th>\n",
       "      <td>4.037272</td>\n",
       "      <td>-1696.97</td>\n",
       "      <td>1.0001</td>\n",
       "    </tr>\n",
       "    <tr>\n",
       "      <th>college basketball</th>\n",
       "      <td>4.002000</td>\n",
       "      <td>-10909.09</td>\n",
       "      <td>1.0010</td>\n",
       "    </tr>\n",
       "    <tr>\n",
       "      <th>college football</th>\n",
       "      <td>4.002000</td>\n",
       "      <td>-5875.00</td>\n",
       "      <td>1.0010</td>\n",
       "    </tr>\n",
       "    <tr>\n",
       "      <th>mlb</th>\n",
       "      <td>4.001000</td>\n",
       "      <td>-8400.00</td>\n",
       "      <td>1.0001</td>\n",
       "    </tr>\n",
       "    <tr>\n",
       "      <th>nba</th>\n",
       "      <td>4.002000</td>\n",
       "      <td>-14297.50</td>\n",
       "      <td>1.0001</td>\n",
       "    </tr>\n",
       "    <tr>\n",
       "      <th>nfl</th>\n",
       "      <td>4.002000</td>\n",
       "      <td>-21000.00</td>\n",
       "      <td>1.0010</td>\n",
       "    </tr>\n",
       "    <tr>\n",
       "      <th>nhl</th>\n",
       "      <td>4.002000</td>\n",
       "      <td>-9899.44</td>\n",
       "      <td>1.0020</td>\n",
       "    </tr>\n",
       "  </tbody>\n",
       "</table>\n",
       "</div>"
      ],
      "text/plain": [
       "                    net_stake       ggr  decimalodds\n",
       "sportname                                           \n",
       "champions league     4.037272  -1696.97       1.0001\n",
       "college basketball   4.002000 -10909.09       1.0010\n",
       "college football     4.002000  -5875.00       1.0010\n",
       "mlb                  4.001000  -8400.00       1.0001\n",
       "nba                  4.002000 -14297.50       1.0001\n",
       "nfl                  4.002000 -21000.00       1.0010\n",
       "nhl                  4.002000  -9899.44       1.0020"
      ]
     },
     "execution_count": 25,
     "metadata": {},
     "output_type": "execute_result"
    }
   ],
   "source": [
    "df.groupby(['sportname'])['net_stake', 'ggr', 'decimalodds'].min()"
   ]
  },
  {
   "cell_type": "code",
   "execution_count": 26,
   "id": "10d3b9f3",
   "metadata": {},
   "outputs": [
    {
     "name": "stderr",
     "output_type": "stream",
     "text": [
      "/var/folders/q4/3qhdj_kd6_56b822k50hsf780000gn/T/ipykernel_12259/496604297.py:1: FutureWarning: Indexing with multiple keys (implicitly converted to a tuple of keys) will be deprecated, use a list instead.\n",
      "  df.groupby(['sportname'])['net_stake', 'ggr', 'decimalodds'].max()\n"
     ]
    },
    {
     "data": {
      "text/html": [
       "<div>\n",
       "<style scoped>\n",
       "    .dataframe tbody tr th:only-of-type {\n",
       "        vertical-align: middle;\n",
       "    }\n",
       "\n",
       "    .dataframe tbody tr th {\n",
       "        vertical-align: top;\n",
       "    }\n",
       "\n",
       "    .dataframe thead th {\n",
       "        text-align: right;\n",
       "    }\n",
       "</style>\n",
       "<table border=\"1\" class=\"dataframe\">\n",
       "  <thead>\n",
       "    <tr style=\"text-align: right;\">\n",
       "      <th></th>\n",
       "      <th>net_stake</th>\n",
       "      <th>ggr</th>\n",
       "      <th>decimalodds</th>\n",
       "    </tr>\n",
       "    <tr>\n",
       "      <th>sportname</th>\n",
       "      <th></th>\n",
       "      <th></th>\n",
       "      <th></th>\n",
       "    </tr>\n",
       "  </thead>\n",
       "  <tbody>\n",
       "    <tr>\n",
       "      <th>champions league</th>\n",
       "      <td>4850.0</td>\n",
       "      <td>3150.00</td>\n",
       "      <td>1001.0</td>\n",
       "    </tr>\n",
       "    <tr>\n",
       "      <th>college basketball</th>\n",
       "      <td>12000.0</td>\n",
       "      <td>7513.93</td>\n",
       "      <td>501.0</td>\n",
       "    </tr>\n",
       "    <tr>\n",
       "      <th>college football</th>\n",
       "      <td>10000.0</td>\n",
       "      <td>6000.00</td>\n",
       "      <td>321.0</td>\n",
       "    </tr>\n",
       "    <tr>\n",
       "      <th>mlb</th>\n",
       "      <td>12400.0</td>\n",
       "      <td>7000.00</td>\n",
       "      <td>5001.0</td>\n",
       "    </tr>\n",
       "    <tr>\n",
       "      <th>nba</th>\n",
       "      <td>19672.0</td>\n",
       "      <td>19672.00</td>\n",
       "      <td>601.0</td>\n",
       "    </tr>\n",
       "    <tr>\n",
       "      <th>nfl</th>\n",
       "      <td>15000.0</td>\n",
       "      <td>12000.00</td>\n",
       "      <td>1001.0</td>\n",
       "    </tr>\n",
       "    <tr>\n",
       "      <th>nhl</th>\n",
       "      <td>7900.0</td>\n",
       "      <td>7900.00</td>\n",
       "      <td>301.0</td>\n",
       "    </tr>\n",
       "  </tbody>\n",
       "</table>\n",
       "</div>"
      ],
      "text/plain": [
       "                    net_stake       ggr  decimalodds\n",
       "sportname                                           \n",
       "champions league       4850.0   3150.00       1001.0\n",
       "college basketball    12000.0   7513.93        501.0\n",
       "college football      10000.0   6000.00        321.0\n",
       "mlb                   12400.0   7000.00       5001.0\n",
       "nba                   19672.0  19672.00        601.0\n",
       "nfl                   15000.0  12000.00       1001.0\n",
       "nhl                    7900.0   7900.00        301.0"
      ]
     },
     "execution_count": 26,
     "metadata": {},
     "output_type": "execute_result"
    }
   ],
   "source": [
    "df.groupby(['sportname'])['net_stake', 'ggr', 'decimalodds'].max()"
   ]
  },
  {
   "cell_type": "code",
   "execution_count": 32,
   "id": "2d7164c9",
   "metadata": {},
   "outputs": [
    {
     "data": {
      "text/html": [
       "<style type=\"text/css\">\n",
       "#T_cc07a_row0_col0, #T_cc07a_row1_col1, #T_cc07a_row2_col2 {\n",
       "  background-color: #b40426;\n",
       "  color: #f1f1f1;\n",
       "}\n",
       "#T_cc07a_row0_col1 {\n",
       "  background-color: #485fd1;\n",
       "  color: #f1f1f1;\n",
       "}\n",
       "#T_cc07a_row0_col2, #T_cc07a_row2_col0, #T_cc07a_row2_col1 {\n",
       "  background-color: #3b4cc0;\n",
       "  color: #f1f1f1;\n",
       "}\n",
       "#T_cc07a_row1_col0 {\n",
       "  background-color: #4c66d6;\n",
       "  color: #f1f1f1;\n",
       "}\n",
       "#T_cc07a_row1_col2 {\n",
       "  background-color: #3f53c6;\n",
       "  color: #f1f1f1;\n",
       "}\n",
       "</style>\n",
       "<table id=\"T_cc07a\">\n",
       "  <thead>\n",
       "    <tr>\n",
       "      <th class=\"blank level0\" >&nbsp;</th>\n",
       "      <th id=\"T_cc07a_level0_col0\" class=\"col_heading level0 col0\" >net_stake</th>\n",
       "      <th id=\"T_cc07a_level0_col1\" class=\"col_heading level0 col1\" >ggr</th>\n",
       "      <th id=\"T_cc07a_level0_col2\" class=\"col_heading level0 col2\" >decimalodds</th>\n",
       "    </tr>\n",
       "  </thead>\n",
       "  <tbody>\n",
       "    <tr>\n",
       "      <th id=\"T_cc07a_level0_row0\" class=\"row_heading level0 row0\" >net_stake</th>\n",
       "      <td id=\"T_cc07a_row0_col0\" class=\"data row0 col0\" >1.000000</td>\n",
       "      <td id=\"T_cc07a_row0_col1\" class=\"data row0 col1\" >0.046231</td>\n",
       "      <td id=\"T_cc07a_row0_col2\" class=\"data row0 col2\" >-0.017033</td>\n",
       "    </tr>\n",
       "    <tr>\n",
       "      <th id=\"T_cc07a_level0_row1\" class=\"row_heading level0 row1\" >ggr</th>\n",
       "      <td id=\"T_cc07a_row1_col0\" class=\"data row1 col0\" >0.046231</td>\n",
       "      <td id=\"T_cc07a_row1_col1\" class=\"data row1 col1\" >1.000000</td>\n",
       "      <td id=\"T_cc07a_row1_col2\" class=\"data row1 col2\" >0.002769</td>\n",
       "    </tr>\n",
       "    <tr>\n",
       "      <th id=\"T_cc07a_level0_row2\" class=\"row_heading level0 row2\" >decimalodds</th>\n",
       "      <td id=\"T_cc07a_row2_col0\" class=\"data row2 col0\" >-0.017033</td>\n",
       "      <td id=\"T_cc07a_row2_col1\" class=\"data row2 col1\" >0.002769</td>\n",
       "      <td id=\"T_cc07a_row2_col2\" class=\"data row2 col2\" >1.000000</td>\n",
       "    </tr>\n",
       "  </tbody>\n",
       "</table>\n"
      ],
      "text/plain": [
       "<pandas.io.formats.style.Styler at 0x7fa4d5d69910>"
      ]
     },
     "execution_count": 32,
     "metadata": {},
     "output_type": "execute_result"
    }
   ],
   "source": [
    "corr_cols = ['net_stake', 'ggr', 'decimalodds']\n",
    "df[corr_cols].corr().style.background_gradient(cmap='coolwarm')"
   ]
  },
  {
   "cell_type": "markdown",
   "id": "e1419fc2",
   "metadata": {},
   "source": [
    "### Attempt at KMeans clustering for user segmentation"
   ]
  },
  {
   "cell_type": "code",
   "execution_count": 43,
   "id": "0100df23",
   "metadata": {},
   "outputs": [],
   "source": [
    "clustering1 = KMeans(n_clusters=4)"
   ]
  },
  {
   "cell_type": "code",
   "execution_count": 44,
   "id": "83d01f66",
   "metadata": {},
   "outputs": [
    {
     "data": {
      "text/plain": [
       "KMeans(n_clusters=4)"
      ]
     },
     "execution_count": 44,
     "metadata": {},
     "output_type": "execute_result"
    }
   ],
   "source": [
    "clustering1.fit(df[['net_stake']])"
   ]
  },
  {
   "cell_type": "code",
   "execution_count": 45,
   "id": "dffe0e6e",
   "metadata": {},
   "outputs": [
    {
     "data": {
      "text/plain": [
       "array([0, 0, 0, ..., 0, 0, 0], dtype=int32)"
      ]
     },
     "execution_count": 45,
     "metadata": {},
     "output_type": "execute_result"
    }
   ],
   "source": [
    "clustering1.labels_"
   ]
  },
  {
   "cell_type": "code",
   "execution_count": 46,
   "id": "472d75e6",
   "metadata": {},
   "outputs": [
    {
     "data": {
      "text/html": [
       "<div>\n",
       "<style scoped>\n",
       "    .dataframe tbody tr th:only-of-type {\n",
       "        vertical-align: middle;\n",
       "    }\n",
       "\n",
       "    .dataframe tbody tr th {\n",
       "        vertical-align: top;\n",
       "    }\n",
       "\n",
       "    .dataframe thead th {\n",
       "        text-align: right;\n",
       "    }\n",
       "</style>\n",
       "<table border=\"1\" class=\"dataframe\">\n",
       "  <thead>\n",
       "    <tr style=\"text-align: right;\">\n",
       "      <th></th>\n",
       "      <th>state</th>\n",
       "      <th>playerid</th>\n",
       "      <th>wagerid</th>\n",
       "      <th>event_start</th>\n",
       "      <th>placed_date</th>\n",
       "      <th>settled_date</th>\n",
       "      <th>sportname</th>\n",
       "      <th>bet_type</th>\n",
       "      <th>result</th>\n",
       "      <th>net_stake</th>\n",
       "      <th>ggr</th>\n",
       "      <th>legresult</th>\n",
       "      <th>decimalodds</th>\n",
       "      <th>net_stake cluster</th>\n",
       "    </tr>\n",
       "  </thead>\n",
       "  <tbody>\n",
       "    <tr>\n",
       "      <th>0</th>\n",
       "      <td>State1</td>\n",
       "      <td>3.065121e+07</td>\n",
       "      <td>1.693004e+06</td>\n",
       "      <td>2021-04-28 00:30:00+00</td>\n",
       "      <td>2021-04-27</td>\n",
       "      <td>2021-04-27</td>\n",
       "      <td>nhl</td>\n",
       "      <td>straight</td>\n",
       "      <td>won</td>\n",
       "      <td>6.64</td>\n",
       "      <td>-4.96</td>\n",
       "      <td>won</td>\n",
       "      <td>1.74627</td>\n",
       "      <td>0</td>\n",
       "    </tr>\n",
       "    <tr>\n",
       "      <th>1</th>\n",
       "      <td>State1</td>\n",
       "      <td>2.223717e+07</td>\n",
       "      <td>1.696371e+06</td>\n",
       "      <td>2021-04-28 01:45:00+00</td>\n",
       "      <td>2021-04-27</td>\n",
       "      <td>2021-04-27</td>\n",
       "      <td>nba</td>\n",
       "      <td>parlay</td>\n",
       "      <td>lost</td>\n",
       "      <td>5.00</td>\n",
       "      <td>5.00</td>\n",
       "      <td>won</td>\n",
       "      <td>1.78125</td>\n",
       "      <td>0</td>\n",
       "    </tr>\n",
       "    <tr>\n",
       "      <th>2</th>\n",
       "      <td>State1</td>\n",
       "      <td>2.223717e+07</td>\n",
       "      <td>1.696371e+06</td>\n",
       "      <td>2021-04-28 01:45:00+00</td>\n",
       "      <td>2021-04-27</td>\n",
       "      <td>2021-04-27</td>\n",
       "      <td>nba</td>\n",
       "      <td>parlay</td>\n",
       "      <td>lost</td>\n",
       "      <td>5.00</td>\n",
       "      <td>5.00</td>\n",
       "      <td>lost</td>\n",
       "      <td>1.86207</td>\n",
       "      <td>0</td>\n",
       "    </tr>\n",
       "    <tr>\n",
       "      <th>3</th>\n",
       "      <td>State1</td>\n",
       "      <td>2.223717e+07</td>\n",
       "      <td>1.696371e+06</td>\n",
       "      <td>2021-04-28 01:45:00+00</td>\n",
       "      <td>2021-04-27</td>\n",
       "      <td>2021-04-27</td>\n",
       "      <td>nba</td>\n",
       "      <td>parlay</td>\n",
       "      <td>lost</td>\n",
       "      <td>5.00</td>\n",
       "      <td>5.00</td>\n",
       "      <td>lost</td>\n",
       "      <td>1.74627</td>\n",
       "      <td>0</td>\n",
       "    </tr>\n",
       "    <tr>\n",
       "      <th>4</th>\n",
       "      <td>State1</td>\n",
       "      <td>2.223717e+07</td>\n",
       "      <td>1.696371e+06</td>\n",
       "      <td>2021-04-28 01:45:00+00</td>\n",
       "      <td>2021-04-27</td>\n",
       "      <td>2021-04-27</td>\n",
       "      <td>nba</td>\n",
       "      <td>parlay</td>\n",
       "      <td>lost</td>\n",
       "      <td>5.00</td>\n",
       "      <td>5.00</td>\n",
       "      <td>lost</td>\n",
       "      <td>1.78125</td>\n",
       "      <td>0</td>\n",
       "    </tr>\n",
       "  </tbody>\n",
       "</table>\n",
       "</div>"
      ],
      "text/plain": [
       "    state      playerid       wagerid             event_start placed_date  \\\n",
       "0  State1  3.065121e+07  1.693004e+06  2021-04-28 00:30:00+00  2021-04-27   \n",
       "1  State1  2.223717e+07  1.696371e+06  2021-04-28 01:45:00+00  2021-04-27   \n",
       "2  State1  2.223717e+07  1.696371e+06  2021-04-28 01:45:00+00  2021-04-27   \n",
       "3  State1  2.223717e+07  1.696371e+06  2021-04-28 01:45:00+00  2021-04-27   \n",
       "4  State1  2.223717e+07  1.696371e+06  2021-04-28 01:45:00+00  2021-04-27   \n",
       "\n",
       "  settled_date sportname  bet_type result  net_stake   ggr legresult  \\\n",
       "0   2021-04-27       nhl  straight    won       6.64 -4.96       won   \n",
       "1   2021-04-27       nba    parlay   lost       5.00  5.00       won   \n",
       "2   2021-04-27       nba    parlay   lost       5.00  5.00      lost   \n",
       "3   2021-04-27       nba    parlay   lost       5.00  5.00      lost   \n",
       "4   2021-04-27       nba    parlay   lost       5.00  5.00      lost   \n",
       "\n",
       "   decimalodds  net_stake cluster  \n",
       "0      1.74627                  0  \n",
       "1      1.78125                  0  \n",
       "2      1.86207                  0  \n",
       "3      1.74627                  0  \n",
       "4      1.78125                  0  "
      ]
     },
     "execution_count": 46,
     "metadata": {},
     "output_type": "execute_result"
    }
   ],
   "source": [
    "df['net_stake cluster'] = clustering1.labels_\n",
    "df.head()"
   ]
  },
  {
   "cell_type": "code",
   "execution_count": 47,
   "id": "ddfd7ba0",
   "metadata": {},
   "outputs": [
    {
     "data": {
      "text/plain": [
       "0    4100412\n",
       "3      68101\n",
       "1       5734\n",
       "2        253\n",
       "Name: net_stake cluster, dtype: int64"
      ]
     },
     "execution_count": 47,
     "metadata": {},
     "output_type": "execute_result"
    }
   ],
   "source": [
    "df['net_stake cluster'].value_counts()"
   ]
  },
  {
   "cell_type": "code",
   "execution_count": 41,
   "id": "257276f1",
   "metadata": {},
   "outputs": [],
   "source": [
    "inertia_scores = []\n",
    "for i in range(1,15):\n",
    "    kmeans=KMeans(n_clusters=i)\n",
    "    kmeans.fit(df[['net_stake']])\n",
    "    inertia_scores.append(kmeans.inertia_)"
   ]
  },
  {
   "cell_type": "code",
   "execution_count": 49,
   "id": "73153f57",
   "metadata": {},
   "outputs": [
    {
     "data": {
      "text/plain": [
       "[27995756518.286972,\n",
       " 15520599366.629433,\n",
       " 9429911399.508099,\n",
       " 6089990456.387669,\n",
       " 4209785557.0198555,\n",
       " 2993291205.2808075,\n",
       " 2229142891.3496284,\n",
       " 1621850719.9175029,\n",
       " 1312279541.2868893,\n",
       " 1051646168.6611164,\n",
       " 874242832.7183039,\n",
       " 773516081.640336,\n",
       " 681756138.9029303,\n",
       " 545736036.8367519]"
      ]
     },
     "execution_count": 49,
     "metadata": {},
     "output_type": "execute_result"
    }
   ],
   "source": [
    "inertia_scores"
   ]
  },
  {
   "cell_type": "code",
   "execution_count": 42,
   "id": "c70429a0",
   "metadata": {},
   "outputs": [
    {
     "data": {
      "text/plain": [
       "[<matplotlib.lines.Line2D at 0x7fa5705d4e80>]"
      ]
     },
     "execution_count": 42,
     "metadata": {},
     "output_type": "execute_result"
    },
    {
     "data": {
      "image/png": "[encoded data removed]",
      "text/plain": [
       "<Figure size 432x288 with 1 Axes>"
      ]
     },
     "metadata": {
      "needs_background": "light"
     },
     "output_type": "display_data"
    }
   ],
   "source": [
    "plt.plot(range(1,15), inertia_scores)"
   ]
  },
  {
   "cell_type": "code",
   "execution_count": null,
   "id": "38a4b766",
   "metadata": {},
   "outputs": [],
   "source": []
  }
 ],
 "metadata": {
  "kernelspec": {
   "display_name": "Python 3 (ipykernel)",
   "language": "python",
   "name": "python3"
  },
  "language_info": {
   "codemirror_mode": {
    "name": "ipython",
    "version": 3
   },
   "file_extension": ".py",
   "mimetype": "text/x-python",
   "name": "python",
   "nbconvert_exporter": "python",
   "pygments_lexer": "ipython3",
   "version": "3.9.12"
  }
 },
 "nbformat": 4,
 "nbformat_minor": 5
}
