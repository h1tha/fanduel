{
 "cells": [
  {
   "cell_type": "markdown",
   "id": "8fdcdc91",
   "metadata": {},
   "source": [
    "### Library Imports"
   ]
  },
  {
   "cell_type": "code",
   "execution_count": 23,
   "id": "66c8cf7b",
   "metadata": {},
   "outputs": [],
   "source": [
    "import numpy as np\n",
    "import pandas as pd\n",
    "\n",
    "import matplotlib.pyplot as plt\n",
    "import seaborn as sns"
   ]
  },
  {
   "cell_type": "markdown",
   "id": "39ed276a",
   "metadata": {},
   "source": [
    "### Exploratory Data Analysis"
   ]
  },
  {
   "cell_type": "code",
   "execution_count": 4,
   "id": "542a8bcc",
   "metadata": {},
   "outputs": [
    {
     "data": {
      "text/html": [
       "<div>\n",
       "<style scoped>\n",
       "    .dataframe tbody tr th:only-of-type {\n",
       "        vertical-align: middle;\n",
       "    }\n",
       "\n",
       "    .dataframe tbody tr th {\n",
       "        vertical-align: top;\n",
       "    }\n",
       "\n",
       "    .dataframe thead th {\n",
       "        text-align: right;\n",
       "    }\n",
       "</style>\n",
       "<table border=\"1\" class=\"dataframe\">\n",
       "  <thead>\n",
       "    <tr style=\"text-align: right;\">\n",
       "      <th></th>\n",
       "      <th>state</th>\n",
       "      <th>playerid</th>\n",
       "      <th>wagerid</th>\n",
       "      <th>event_start</th>\n",
       "      <th>placed_date</th>\n",
       "      <th>settled_date</th>\n",
       "      <th>sportname</th>\n",
       "      <th>bet_type</th>\n",
       "      <th>result</th>\n",
       "      <th>net_stake</th>\n",
       "      <th>ggr</th>\n",
       "      <th>legresult</th>\n",
       "      <th>decimalodds</th>\n",
       "    </tr>\n",
       "  </thead>\n",
       "  <tbody>\n",
       "    <tr>\n",
       "      <th>0</th>\n",
       "      <td>State1</td>\n",
       "      <td>3.065121e+07</td>\n",
       "      <td>1.693004e+06</td>\n",
       "      <td>2021-04-28 00:30:00+00</td>\n",
       "      <td>2021-04-27</td>\n",
       "      <td>2021-04-27</td>\n",
       "      <td>nhl</td>\n",
       "      <td>straight</td>\n",
       "      <td>won</td>\n",
       "      <td>6.64</td>\n",
       "      <td>-4.96</td>\n",
       "      <td>won</td>\n",
       "      <td>1.74627</td>\n",
       "    </tr>\n",
       "    <tr>\n",
       "      <th>1</th>\n",
       "      <td>State1</td>\n",
       "      <td>2.223717e+07</td>\n",
       "      <td>1.696371e+06</td>\n",
       "      <td>2021-04-28 01:45:00+00</td>\n",
       "      <td>2021-04-27</td>\n",
       "      <td>2021-04-27</td>\n",
       "      <td>nba</td>\n",
       "      <td>parlay</td>\n",
       "      <td>lost</td>\n",
       "      <td>5.00</td>\n",
       "      <td>5.00</td>\n",
       "      <td>won</td>\n",
       "      <td>1.78125</td>\n",
       "    </tr>\n",
       "    <tr>\n",
       "      <th>2</th>\n",
       "      <td>State1</td>\n",
       "      <td>2.223717e+07</td>\n",
       "      <td>1.696371e+06</td>\n",
       "      <td>2021-04-28 01:45:00+00</td>\n",
       "      <td>2021-04-27</td>\n",
       "      <td>2021-04-27</td>\n",
       "      <td>nba</td>\n",
       "      <td>parlay</td>\n",
       "      <td>lost</td>\n",
       "      <td>5.00</td>\n",
       "      <td>5.00</td>\n",
       "      <td>lost</td>\n",
       "      <td>1.86207</td>\n",
       "    </tr>\n",
       "    <tr>\n",
       "      <th>3</th>\n",
       "      <td>State1</td>\n",
       "      <td>2.223717e+07</td>\n",
       "      <td>1.696371e+06</td>\n",
       "      <td>2021-04-28 01:45:00+00</td>\n",
       "      <td>2021-04-27</td>\n",
       "      <td>2021-04-27</td>\n",
       "      <td>nba</td>\n",
       "      <td>parlay</td>\n",
       "      <td>lost</td>\n",
       "      <td>5.00</td>\n",
       "      <td>5.00</td>\n",
       "      <td>lost</td>\n",
       "      <td>1.74627</td>\n",
       "    </tr>\n",
       "    <tr>\n",
       "      <th>4</th>\n",
       "      <td>State1</td>\n",
       "      <td>2.223717e+07</td>\n",
       "      <td>1.696371e+06</td>\n",
       "      <td>2021-04-28 01:45:00+00</td>\n",
       "      <td>2021-04-27</td>\n",
       "      <td>2021-04-27</td>\n",
       "      <td>nba</td>\n",
       "      <td>parlay</td>\n",
       "      <td>lost</td>\n",
       "      <td>5.00</td>\n",
       "      <td>5.00</td>\n",
       "      <td>lost</td>\n",
       "      <td>1.78125</td>\n",
       "    </tr>\n",
       "  </tbody>\n",
       "</table>\n",
       "</div>"
      ],
      "text/plain": [
       "    state      playerid       wagerid             event_start placed_date  \\\n",
       "0  State1  3.065121e+07  1.693004e+06  2021-04-28 00:30:00+00  2021-04-27   \n",
       "1  State1  2.223717e+07  1.696371e+06  2021-04-28 01:45:00+00  2021-04-27   \n",
       "2  State1  2.223717e+07  1.696371e+06  2021-04-28 01:45:00+00  2021-04-27   \n",
       "3  State1  2.223717e+07  1.696371e+06  2021-04-28 01:45:00+00  2021-04-27   \n",
       "4  State1  2.223717e+07  1.696371e+06  2021-04-28 01:45:00+00  2021-04-27   \n",
       "\n",
       "  settled_date sportname  bet_type result  net_stake   ggr legresult  \\\n",
       "0   2021-04-27       nhl  straight    won       6.64 -4.96       won   \n",
       "1   2021-04-27       nba    parlay   lost       5.00  5.00       won   \n",
       "2   2021-04-27       nba    parlay   lost       5.00  5.00      lost   \n",
       "3   2021-04-27       nba    parlay   lost       5.00  5.00      lost   \n",
       "4   2021-04-27       nba    parlay   lost       5.00  5.00      lost   \n",
       "\n",
       "   decimalodds  \n",
       "0      1.74627  \n",
       "1      1.78125  \n",
       "2      1.86207  \n",
       "3      1.74627  \n",
       "4      1.78125  "
      ]
     },
     "execution_count": 4,
     "metadata": {},
     "output_type": "execute_result"
    }
   ],
   "source": [
    "df = pd.read_csv('ProjectDataset.csv')\n",
    "df.head()"
   ]
  },
  {
   "cell_type": "code",
   "execution_count": 6,
   "id": "d2cf3f48",
   "metadata": {},
   "outputs": [
    {
     "data": {
      "text/plain": [
       "(4174500, 13)"
      ]
     },
     "execution_count": 6,
     "metadata": {},
     "output_type": "execute_result"
    }
   ],
   "source": [
    "# rows and columns count\n",
    "\n",
    "df.shape"
   ]
  },
  {
   "cell_type": "code",
   "execution_count": 7,
   "id": "16cec986",
   "metadata": {},
   "outputs": [
    {
     "data": {
      "text/plain": [
       "array(['state', 'playerid', 'wagerid', 'event_start', 'placed_date',\n",
       "       'settled_date', 'sportname', 'bet_type', 'result', 'net_stake',\n",
       "       'ggr', 'legresult', 'decimalodds'], dtype=object)"
      ]
     },
     "execution_count": 7,
     "metadata": {},
     "output_type": "execute_result"
    }
   ],
   "source": [
    "# names of columns\n",
    "\n",
    "df.columns.values"
   ]
  },
  {
   "cell_type": "code",
   "execution_count": 10,
   "id": "177c4d13",
   "metadata": {},
   "outputs": [
    {
     "data": {
      "text/plain": [
       "state                 3\n",
       "playerid          36387\n",
       "wagerid         2402300\n",
       "event_start       11991\n",
       "placed_date         366\n",
       "settled_date        367\n",
       "sportname             7\n",
       "bet_type              2\n",
       "result                2\n",
       "net_stake         31701\n",
       "ggr               96979\n",
       "legresult             5\n",
       "decimalodds       18694\n",
       "dtype: int64"
      ]
     },
     "execution_count": 10,
     "metadata": {},
     "output_type": "execute_result"
    }
   ],
   "source": [
    "# count of unique values in each column\n",
    "\n",
    "df.nunique()"
   ]
  },
  {
   "cell_type": "code",
   "execution_count": 19,
   "id": "522e7b79",
   "metadata": {},
   "outputs": [
    {
     "data": {
      "text/plain": [
       "state              0\n",
       "playerid           0\n",
       "wagerid            0\n",
       "event_start        0\n",
       "placed_date        0\n",
       "settled_date       0\n",
       "sportname          0\n",
       "bet_type           0\n",
       "result             0\n",
       "net_stake          0\n",
       "ggr                0\n",
       "legresult          0\n",
       "decimalodds     2472\n",
       "dtype: int64"
      ]
     },
     "execution_count": 19,
     "metadata": {},
     "output_type": "execute_result"
    }
   ],
   "source": [
    "# where do null values exist in the dataframe\n",
    "\n",
    "df.isna().sum()"
   ]
  },
  {
   "cell_type": "markdown",
   "id": "aa191bb1",
   "metadata": {},
   "source": [
    "There are 4174500 rows and 13 columns in the dataset. There are 2472 null values, all of which are in the 'decimalodds' columns."
   ]
  },
  {
   "cell_type": "code",
   "execution_count": 41,
   "id": "eaa92642",
   "metadata": {},
   "outputs": [
    {
     "data": {
      "text/html": [
       "<div>\n",
       "<style scoped>\n",
       "    .dataframe tbody tr th:only-of-type {\n",
       "        vertical-align: middle;\n",
       "    }\n",
       "\n",
       "    .dataframe tbody tr th {\n",
       "        vertical-align: top;\n",
       "    }\n",
       "\n",
       "    .dataframe thead th {\n",
       "        text-align: right;\n",
       "    }\n",
       "</style>\n",
       "<table border=\"1\" class=\"dataframe\">\n",
       "  <thead>\n",
       "    <tr style=\"text-align: right;\">\n",
       "      <th></th>\n",
       "      <th>playerid</th>\n",
       "      <th>wagerid</th>\n",
       "      <th>net_stake</th>\n",
       "      <th>ggr</th>\n",
       "      <th>decimalodds</th>\n",
       "    </tr>\n",
       "  </thead>\n",
       "  <tbody>\n",
       "    <tr>\n",
       "      <th>count</th>\n",
       "      <td>4.174500e+06</td>\n",
       "      <td>4.174500e+06</td>\n",
       "      <td>4.174500e+06</td>\n",
       "      <td>4.174500e+06</td>\n",
       "      <td>4.172028e+06</td>\n",
       "    </tr>\n",
       "    <tr>\n",
       "      <th>mean</th>\n",
       "      <td>2.273927e+07</td>\n",
       "      <td>4.754173e+07</td>\n",
       "      <td>2.361655e+01</td>\n",
       "      <td>2.451643e+00</td>\n",
       "      <td>3.984459e+00</td>\n",
       "    </tr>\n",
       "    <tr>\n",
       "      <th>std</th>\n",
       "      <td>1.033895e+07</td>\n",
       "      <td>3.675171e+07</td>\n",
       "      <td>8.189246e+01</td>\n",
       "      <td>8.532259e+01</td>\n",
       "      <td>1.602930e+01</td>\n",
       "    </tr>\n",
       "    <tr>\n",
       "      <th>min</th>\n",
       "      <td>5.971640e+04</td>\n",
       "      <td>1.691622e+06</td>\n",
       "      <td>4.001000e+00</td>\n",
       "      <td>-2.100000e+04</td>\n",
       "      <td>1.000100e+00</td>\n",
       "    </tr>\n",
       "    <tr>\n",
       "      <th>25%</th>\n",
       "      <td>1.750210e+07</td>\n",
       "      <td>2.296253e+07</td>\n",
       "      <td>5.000000e+00</td>\n",
       "      <td>0.000000e+00</td>\n",
       "      <td>1.649350e+00</td>\n",
       "    </tr>\n",
       "    <tr>\n",
       "      <th>50%</th>\n",
       "      <td>2.379874e+07</td>\n",
       "      <td>3.859404e+07</td>\n",
       "      <td>1.000000e+01</td>\n",
       "      <td>6.000000e+00</td>\n",
       "      <td>1.909090e+00</td>\n",
       "    </tr>\n",
       "    <tr>\n",
       "      <th>75%</th>\n",
       "      <td>3.064089e+07</td>\n",
       "      <td>5.861577e+07</td>\n",
       "      <td>2.000000e+01</td>\n",
       "      <td>1.200000e+01</td>\n",
       "      <td>2.200000e+00</td>\n",
       "    </tr>\n",
       "    <tr>\n",
       "      <th>max</th>\n",
       "      <td>4.297671e+07</td>\n",
       "      <td>1.779192e+08</td>\n",
       "      <td>1.967200e+04</td>\n",
       "      <td>1.967200e+04</td>\n",
       "      <td>5.001000e+03</td>\n",
       "    </tr>\n",
       "  </tbody>\n",
       "</table>\n",
       "</div>"
      ],
      "text/plain": [
       "           playerid       wagerid     net_stake           ggr   decimalodds\n",
       "count  4.174500e+06  4.174500e+06  4.174500e+06  4.174500e+06  4.172028e+06\n",
       "mean   2.273927e+07  4.754173e+07  2.361655e+01  2.451643e+00  3.984459e+00\n",
       "std    1.033895e+07  3.675171e+07  8.189246e+01  8.532259e+01  1.602930e+01\n",
       "min    5.971640e+04  1.691622e+06  4.001000e+00 -2.100000e+04  1.000100e+00\n",
       "25%    1.750210e+07  2.296253e+07  5.000000e+00  0.000000e+00  1.649350e+00\n",
       "50%    2.379874e+07  3.859404e+07  1.000000e+01  6.000000e+00  1.909090e+00\n",
       "75%    3.064089e+07  5.861577e+07  2.000000e+01  1.200000e+01  2.200000e+00\n",
       "max    4.297671e+07  1.779192e+08  1.967200e+04  1.967200e+04  5.001000e+03"
      ]
     },
     "execution_count": 41,
     "metadata": {},
     "output_type": "execute_result"
    }
   ],
   "source": [
    "df.describe()"
   ]
  },
  {
   "cell_type": "markdown",
   "id": "1e4c1ee6",
   "metadata": {},
   "source": [
    "ggr values on average are slightly higher than the net_stake values. How to increase the margin?"
   ]
  },
  {
   "cell_type": "markdown",
   "id": "c6be71cc",
   "metadata": {},
   "source": [
    "### Examining Null Values"
   ]
  },
  {
   "cell_type": "code",
   "execution_count": 21,
   "id": "61cbbbc0",
   "metadata": {
    "scrolled": true
   },
   "outputs": [
    {
     "data": {
      "text/html": [
       "<div>\n",
       "<style scoped>\n",
       "    .dataframe tbody tr th:only-of-type {\n",
       "        vertical-align: middle;\n",
       "    }\n",
       "\n",
       "    .dataframe tbody tr th {\n",
       "        vertical-align: top;\n",
       "    }\n",
       "\n",
       "    .dataframe thead th {\n",
       "        text-align: right;\n",
       "    }\n",
       "</style>\n",
       "<table border=\"1\" class=\"dataframe\">\n",
       "  <thead>\n",
       "    <tr style=\"text-align: right;\">\n",
       "      <th></th>\n",
       "      <th>state</th>\n",
       "      <th>playerid</th>\n",
       "      <th>wagerid</th>\n",
       "      <th>event_start</th>\n",
       "      <th>placed_date</th>\n",
       "      <th>settled_date</th>\n",
       "      <th>sportname</th>\n",
       "      <th>bet_type</th>\n",
       "      <th>result</th>\n",
       "      <th>net_stake</th>\n",
       "      <th>ggr</th>\n",
       "      <th>legresult</th>\n",
       "      <th>decimalodds</th>\n",
       "    </tr>\n",
       "  </thead>\n",
       "  <tbody>\n",
       "    <tr>\n",
       "      <th>936440</th>\n",
       "      <td>State1</td>\n",
       "      <td>2.227482e+07</td>\n",
       "      <td>4.895481e+07</td>\n",
       "      <td>2021-03-29 23:25:00+00</td>\n",
       "      <td>2021-03-29</td>\n",
       "      <td>2021-03-30</td>\n",
       "      <td>college basketball</td>\n",
       "      <td>parlay</td>\n",
       "      <td>won</td>\n",
       "      <td>5.00</td>\n",
       "      <td>-6.25</td>\n",
       "      <td>won</td>\n",
       "      <td>NaN</td>\n",
       "    </tr>\n",
       "    <tr>\n",
       "      <th>936441</th>\n",
       "      <td>State1</td>\n",
       "      <td>2.227482e+07</td>\n",
       "      <td>4.895481e+07</td>\n",
       "      <td>2021-03-30 02:02:00+00</td>\n",
       "      <td>2021-03-29</td>\n",
       "      <td>2021-03-30</td>\n",
       "      <td>college basketball</td>\n",
       "      <td>parlay</td>\n",
       "      <td>won</td>\n",
       "      <td>5.00</td>\n",
       "      <td>-6.25</td>\n",
       "      <td>won</td>\n",
       "      <td>NaN</td>\n",
       "    </tr>\n",
       "    <tr>\n",
       "      <th>936833</th>\n",
       "      <td>State1</td>\n",
       "      <td>2.886949e+07</td>\n",
       "      <td>4.911740e+07</td>\n",
       "      <td>2021-03-30 23:25:00+00</td>\n",
       "      <td>2021-03-30</td>\n",
       "      <td>2021-03-31</td>\n",
       "      <td>college basketball</td>\n",
       "      <td>parlay</td>\n",
       "      <td>lost</td>\n",
       "      <td>5.00</td>\n",
       "      <td>5.00</td>\n",
       "      <td>won</td>\n",
       "      <td>NaN</td>\n",
       "    </tr>\n",
       "    <tr>\n",
       "      <th>936834</th>\n",
       "      <td>State1</td>\n",
       "      <td>2.886949e+07</td>\n",
       "      <td>4.911740e+07</td>\n",
       "      <td>2021-03-31 02:07:00+00</td>\n",
       "      <td>2021-03-30</td>\n",
       "      <td>2021-03-31</td>\n",
       "      <td>college basketball</td>\n",
       "      <td>parlay</td>\n",
       "      <td>lost</td>\n",
       "      <td>5.00</td>\n",
       "      <td>5.00</td>\n",
       "      <td>lost</td>\n",
       "      <td>NaN</td>\n",
       "    </tr>\n",
       "    <tr>\n",
       "      <th>936850</th>\n",
       "      <td>State1</td>\n",
       "      <td>3.091458e+07</td>\n",
       "      <td>4.912196e+07</td>\n",
       "      <td>2021-03-31 02:07:00+00</td>\n",
       "      <td>2021-03-30</td>\n",
       "      <td>2021-03-31</td>\n",
       "      <td>college basketball</td>\n",
       "      <td>parlay</td>\n",
       "      <td>lost</td>\n",
       "      <td>4.84</td>\n",
       "      <td>4.84</td>\n",
       "      <td>lost</td>\n",
       "      <td>NaN</td>\n",
       "    </tr>\n",
       "  </tbody>\n",
       "</table>\n",
       "</div>"
      ],
      "text/plain": [
       "         state      playerid       wagerid             event_start  \\\n",
       "936440  State1  2.227482e+07  4.895481e+07  2021-03-29 23:25:00+00   \n",
       "936441  State1  2.227482e+07  4.895481e+07  2021-03-30 02:02:00+00   \n",
       "936833  State1  2.886949e+07  4.911740e+07  2021-03-30 23:25:00+00   \n",
       "936834  State1  2.886949e+07  4.911740e+07  2021-03-31 02:07:00+00   \n",
       "936850  State1  3.091458e+07  4.912196e+07  2021-03-31 02:07:00+00   \n",
       "\n",
       "       placed_date settled_date           sportname bet_type result  \\\n",
       "936440  2021-03-29   2021-03-30  college basketball   parlay    won   \n",
       "936441  2021-03-29   2021-03-30  college basketball   parlay    won   \n",
       "936833  2021-03-30   2021-03-31  college basketball   parlay   lost   \n",
       "936834  2021-03-30   2021-03-31  college basketball   parlay   lost   \n",
       "936850  2021-03-30   2021-03-31  college basketball   parlay   lost   \n",
       "\n",
       "        net_stake   ggr legresult  decimalodds  \n",
       "936440       5.00 -6.25       won          NaN  \n",
       "936441       5.00 -6.25       won          NaN  \n",
       "936833       5.00  5.00       won          NaN  \n",
       "936834       5.00  5.00      lost          NaN  \n",
       "936850       4.84  4.84      lost          NaN  "
      ]
     },
     "execution_count": 21,
     "metadata": {},
     "output_type": "execute_result"
    }
   ],
   "source": [
    "null_data = df[df.isnull().any(axis=1)]\n",
    "null_data.head()"
   ]
  },
  {
   "cell_type": "code",
   "execution_count": 30,
   "id": "b4ca2c83",
   "metadata": {},
   "outputs": [
    {
     "data": {
      "text/plain": [
       "(2472, 13)"
      ]
     },
     "execution_count": 30,
     "metadata": {},
     "output_type": "execute_result"
    }
   ],
   "source": [
    "null_data.shape"
   ]
  },
  {
   "cell_type": "code",
   "execution_count": 34,
   "id": "dedb9b93",
   "metadata": {},
   "outputs": [
    {
     "data": {
      "text/plain": [
       "state             3\n",
       "playerid        288\n",
       "wagerid         928\n",
       "event_start     394\n",
       "placed_date      88\n",
       "settled_date     84\n",
       "sportname         3\n",
       "bet_type          1\n",
       "result            2\n",
       "net_stake       191\n",
       "ggr             248\n",
       "legresult         3\n",
       "decimalodds       0\n",
       "dtype: int64"
      ]
     },
     "execution_count": 34,
     "metadata": {},
     "output_type": "execute_result"
    }
   ],
   "source": [
    "null_data.nunique()"
   ]
  },
  {
   "cell_type": "code",
   "execution_count": 35,
   "id": "5ddb1cb8",
   "metadata": {},
   "outputs": [
    {
     "data": {
      "text/plain": [
       "nba                   1823\n",
       "college basketball     638\n",
       "college football        11\n",
       "Name: sportname, dtype: int64"
      ]
     },
     "execution_count": 35,
     "metadata": {},
     "output_type": "execute_result"
    }
   ],
   "source": [
    "null_data.sportname.value_counts()"
   ]
  },
  {
   "cell_type": "markdown",
   "id": "58a4c898",
   "metadata": {},
   "source": [
    "Rows with null values seem to be random and shouldn't be counted as outlier data points so no reason to drop them."
   ]
  },
  {
   "cell_type": "markdown",
   "id": "a4be9364",
   "metadata": {},
   "source": [
    "### Examining Individual Columns"
   ]
  },
  {
   "cell_type": "code",
   "execution_count": 26,
   "id": "63490f65",
   "metadata": {},
   "outputs": [
    {
     "data": {
      "text/plain": [
       "State2    0.400008\n",
       "State3    0.330195\n",
       "State1    0.269797\n",
       "Name: state, dtype: float64"
      ]
     },
     "execution_count": 26,
     "metadata": {},
     "output_type": "execute_result"
    }
   ],
   "source": [
    "# how many states are included in dataframe\n",
    "\n",
    "df.state.value_counts(normalize=True)"
   ]
  },
  {
   "cell_type": "code",
   "execution_count": 25,
   "id": "a04a15aa",
   "metadata": {},
   "outputs": [
    {
     "data": {
      "text/plain": [
       "nfl                   0.329091\n",
       "nba                   0.325649\n",
       "college basketball    0.119011\n",
       "mlb                   0.113918\n",
       "college football      0.062496\n",
       "nhl                   0.044950\n",
       "champions league      0.004885\n",
       "Name: sportname, dtype: float64"
      ]
     },
     "execution_count": 25,
     "metadata": {},
     "output_type": "execute_result"
    }
   ],
   "source": [
    "# which sports are included in the dataframe\n",
    "\n",
    "df.sportname.value_counts(normalize=True)"
   ]
  },
  {
   "cell_type": "code",
   "execution_count": 27,
   "id": "0986b4b3",
   "metadata": {},
   "outputs": [
    {
     "data": {
      "text/plain": [
       "parlay      0.589196\n",
       "straight    0.410804\n",
       "Name: bet_type, dtype: float64"
      ]
     },
     "execution_count": 27,
     "metadata": {},
     "output_type": "execute_result"
    }
   ],
   "source": [
    "# what kinds of bets were placed\n",
    "\n",
    "df.bet_type.value_counts(normalize=True)"
   ]
  },
  {
   "cell_type": "code",
   "execution_count": 28,
   "id": "0b291167",
   "metadata": {},
   "outputs": [
    {
     "data": {
      "text/plain": [
       "lost    0.732141\n",
       "won     0.267859\n",
       "Name: result, dtype: float64"
      ]
     },
     "execution_count": 28,
     "metadata": {},
     "output_type": "execute_result"
    }
   ],
   "source": [
    "# wins vs losses\n",
    "\n",
    "df.result.value_counts(normalize=True)"
   ]
  },
  {
   "cell_type": "code",
   "execution_count": 29,
   "id": "20d99a88",
   "metadata": {},
   "outputs": [
    {
     "data": {
      "text/plain": [
       "lost       0.505631\n",
       "won        0.488063\n",
       "void       0.005670\n",
       "open       0.000626\n",
       "unknown    0.000010\n",
       "Name: legresult, dtype: float64"
      ]
     },
     "execution_count": 29,
     "metadata": {},
     "output_type": "execute_result"
    }
   ],
   "source": [
    "# \n",
    "\n",
    "df.legresult.value_counts(normalize=True)"
   ]
  },
  {
   "cell_type": "code",
   "execution_count": 38,
   "id": "e1b7daec",
   "metadata": {},
   "outputs": [
    {
     "data": {
      "text/plain": [
       "3330266    19672.00\n",
       "102129     12000.00\n",
       "565327     12000.00\n",
       "3224061    10000.00\n",
       "2122683     8743.32\n",
       "             ...   \n",
       "2532086   -10000.00\n",
       "3737475   -10909.09\n",
       "3329787   -14297.50\n",
       "1057409   -19620.00\n",
       "557657    -21000.00\n",
       "Name: ggr, Length: 4174500, dtype: float64"
      ]
     },
     "execution_count": 38,
     "metadata": {},
     "output_type": "execute_result"
    }
   ],
   "source": [
    "# which kinds of bets produced the highest ggr\n",
    "\n",
    "df.ggr.sort_values(ascending=False)"
   ]
  },
  {
   "cell_type": "code",
   "execution_count": 48,
   "id": "dd982fb3",
   "metadata": {},
   "outputs": [
    {
     "data": {
      "text/plain": [
       "playerid      net_stake \n",
       "5.971640e+04  5.000000      141\n",
       "              10.000000      66\n",
       "              6.666666       56\n",
       "              7.500000       46\n",
       "              25.000000      46\n",
       "                           ... \n",
       "4.297319e+07  200.000000      1\n",
       "4.297671e+07  25.000000       2\n",
       "              10.000000       1\n",
       "              20.000000       1\n",
       "              30.000000       1\n",
       "Name: net_stake, Length: 567135, dtype: int64"
      ]
     },
     "execution_count": 48,
     "metadata": {},
     "output_type": "execute_result"
    }
   ],
   "source": [
    "df['net_stake'].groupby(df['playerid']).value_counts()"
   ]
  },
  {
   "cell_type": "markdown",
   "id": "e92d581b",
   "metadata": {},
   "source": [
    "### Visualizations"
   ]
  },
  {
   "cell_type": "code",
   "execution_count": null,
   "id": "192a31a8",
   "metadata": {},
   "outputs": [],
   "source": []
  },
  {
   "cell_type": "markdown",
   "id": "814794fe",
   "metadata": {},
   "source": [
    "### Things to look at"
   ]
  },
  {
   "cell_type": "code",
   "execution_count": null,
   "id": "687bf216",
   "metadata": {},
   "outputs": [],
   "source": [
    "# histogram breaking down the number of bets placed by people, how to count that?\n",
    "# which sports have the most returning users, what is the amount that they are betting, wins/losses?\n",
    "# "
   ]
  }
 ],
 "metadata": {
  "kernelspec": {
   "display_name": "Python 3 (ipykernel)",
   "language": "python",
   "name": "python3"
  },
  "language_info": {
   "codemirror_mode": {
    "name": "ipython",
    "version": 3
   },
   "file_extension": ".py",
   "mimetype": "text/x-python",
   "name": "python",
   "nbconvert_exporter": "python",
   "pygments_lexer": "ipython3",
   "version": "3.9.12"
  }
 },
 "nbformat": 4,
 "nbformat_minor": 5
}
