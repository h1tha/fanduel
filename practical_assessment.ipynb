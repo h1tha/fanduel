{
 "cells": [
  {
   "cell_type": "markdown",
   "id": "38cc682f",
   "metadata": {},
   "source": [
    "## Imports"
   ]
  },
  {
   "cell_type": "code",
   "execution_count": 1,
   "id": "593a88b4",
   "metadata": {},
   "outputs": [],
   "source": [
    "import numpy as np\n",
    "import pandas as pd\n",
    "import matplotlib.pyplot as plt\n",
    "import seaborn as sns\n",
    "import warnings\n",
    "warnings.filterwarnings('ignore')"
   ]
  },
  {
   "cell_type": "markdown",
   "id": "e7c5afcc",
   "metadata": {},
   "source": [
    "## Initial EDA"
   ]
  },
  {
   "cell_type": "code",
   "execution_count": 2,
   "id": "16dd8edd",
   "metadata": {},
   "outputs": [],
   "source": [
    "df = pd.read_csv('ProjectDataset.csv')"
   ]
  },
  {
   "cell_type": "code",
   "execution_count": 3,
   "id": "7b448f87",
   "metadata": {},
   "outputs": [
    {
     "data": {
      "text/html": [
       "<div>\n",
       "<style scoped>\n",
       "    .dataframe tbody tr th:only-of-type {\n",
       "        vertical-align: middle;\n",
       "    }\n",
       "\n",
       "    .dataframe tbody tr th {\n",
       "        vertical-align: top;\n",
       "    }\n",
       "\n",
       "    .dataframe thead th {\n",
       "        text-align: right;\n",
       "    }\n",
       "</style>\n",
       "<table border=\"1\" class=\"dataframe\">\n",
       "  <thead>\n",
       "    <tr style=\"text-align: right;\">\n",
       "      <th></th>\n",
       "      <th>state</th>\n",
       "      <th>playerid</th>\n",
       "      <th>wagerid</th>\n",
       "      <th>event_start</th>\n",
       "      <th>placed_date</th>\n",
       "      <th>settled_date</th>\n",
       "      <th>sportname</th>\n",
       "      <th>bet_type</th>\n",
       "      <th>result</th>\n",
       "      <th>net_stake</th>\n",
       "      <th>ggr</th>\n",
       "      <th>legresult</th>\n",
       "      <th>decimalodds</th>\n",
       "    </tr>\n",
       "  </thead>\n",
       "  <tbody>\n",
       "    <tr>\n",
       "      <th>0</th>\n",
       "      <td>State1</td>\n",
       "      <td>3.065121e+07</td>\n",
       "      <td>1.693004e+06</td>\n",
       "      <td>2021-04-28 00:30:00+00</td>\n",
       "      <td>2021-04-27</td>\n",
       "      <td>2021-04-27</td>\n",
       "      <td>nhl</td>\n",
       "      <td>straight</td>\n",
       "      <td>won</td>\n",
       "      <td>6.64</td>\n",
       "      <td>-4.96</td>\n",
       "      <td>won</td>\n",
       "      <td>1.74627</td>\n",
       "    </tr>\n",
       "    <tr>\n",
       "      <th>1</th>\n",
       "      <td>State1</td>\n",
       "      <td>2.223717e+07</td>\n",
       "      <td>1.696371e+06</td>\n",
       "      <td>2021-04-28 01:45:00+00</td>\n",
       "      <td>2021-04-27</td>\n",
       "      <td>2021-04-27</td>\n",
       "      <td>nba</td>\n",
       "      <td>parlay</td>\n",
       "      <td>lost</td>\n",
       "      <td>5.00</td>\n",
       "      <td>5.00</td>\n",
       "      <td>won</td>\n",
       "      <td>1.78125</td>\n",
       "    </tr>\n",
       "    <tr>\n",
       "      <th>2</th>\n",
       "      <td>State1</td>\n",
       "      <td>2.223717e+07</td>\n",
       "      <td>1.696371e+06</td>\n",
       "      <td>2021-04-28 01:45:00+00</td>\n",
       "      <td>2021-04-27</td>\n",
       "      <td>2021-04-27</td>\n",
       "      <td>nba</td>\n",
       "      <td>parlay</td>\n",
       "      <td>lost</td>\n",
       "      <td>5.00</td>\n",
       "      <td>5.00</td>\n",
       "      <td>lost</td>\n",
       "      <td>1.86207</td>\n",
       "    </tr>\n",
       "  </tbody>\n",
       "</table>\n",
       "</div>"
      ],
      "text/plain": [
       "    state      playerid       wagerid             event_start placed_date  \\\n",
       "0  State1  3.065121e+07  1.693004e+06  2021-04-28 00:30:00+00  2021-04-27   \n",
       "1  State1  2.223717e+07  1.696371e+06  2021-04-28 01:45:00+00  2021-04-27   \n",
       "2  State1  2.223717e+07  1.696371e+06  2021-04-28 01:45:00+00  2021-04-27   \n",
       "\n",
       "  settled_date sportname  bet_type result  net_stake   ggr legresult  \\\n",
       "0   2021-04-27       nhl  straight    won       6.64 -4.96       won   \n",
       "1   2021-04-27       nba    parlay   lost       5.00  5.00       won   \n",
       "2   2021-04-27       nba    parlay   lost       5.00  5.00      lost   \n",
       "\n",
       "   decimalodds  \n",
       "0      1.74627  \n",
       "1      1.78125  \n",
       "2      1.86207  "
      ]
     },
     "execution_count": 3,
     "metadata": {},
     "output_type": "execute_result"
    }
   ],
   "source": [
    "df.head(3)"
   ]
  },
  {
   "cell_type": "code",
   "execution_count": 4,
   "id": "2e01c0ae",
   "metadata": {},
   "outputs": [
    {
     "data": {
      "text/plain": [
       "state              0\n",
       "playerid           0\n",
       "wagerid            0\n",
       "event_start        0\n",
       "placed_date        0\n",
       "settled_date       0\n",
       "sportname          0\n",
       "bet_type           0\n",
       "result             0\n",
       "net_stake          0\n",
       "ggr                0\n",
       "legresult          0\n",
       "decimalodds     2472\n",
       "dtype: int64"
      ]
     },
     "execution_count": 4,
     "metadata": {},
     "output_type": "execute_result"
    }
   ],
   "source": [
    "# check nulls\n",
    "\n",
    "df.isna().sum()"
   ]
  },
  {
   "cell_type": "code",
   "execution_count": 5,
   "id": "b86f282f",
   "metadata": {},
   "outputs": [],
   "source": [
    "# dropping rows with null values because there are not many and are concentrated in one column \n",
    "\n",
    "df = df.dropna()"
   ]
  },
  {
   "cell_type": "code",
   "execution_count": 6,
   "id": "9a17ff6c",
   "metadata": {},
   "outputs": [
    {
     "name": "stdout",
     "output_type": "stream",
     "text": [
      "<class 'pandas.core.frame.DataFrame'>\n",
      "Int64Index: 4172028 entries, 0 to 4174499\n",
      "Data columns (total 13 columns):\n",
      " #   Column        Dtype  \n",
      "---  ------        -----  \n",
      " 0   state         object \n",
      " 1   playerid      float64\n",
      " 2   wagerid       float64\n",
      " 3   event_start   object \n",
      " 4   placed_date   object \n",
      " 5   settled_date  object \n",
      " 6   sportname     object \n",
      " 7   bet_type      object \n",
      " 8   result        object \n",
      " 9   net_stake     float64\n",
      " 10  ggr           float64\n",
      " 11  legresult     object \n",
      " 12  decimalodds   float64\n",
      "dtypes: float64(5), object(8)\n",
      "memory usage: 445.6+ MB\n"
     ]
    }
   ],
   "source": [
    "# column data types\n",
    "\n",
    "df.info()"
   ]
  },
  {
   "cell_type": "code",
   "execution_count": 7,
   "id": "87a0ecdc",
   "metadata": {},
   "outputs": [],
   "source": [
    "# converting placed_date and settled_date to datetime objects for convenience later\n",
    "\n",
    "df['placed_date'] = pd.to_datetime(df['placed_date'])\n",
    "df['settled_date'] = pd.to_datetime(df['settled_date'])"
   ]
  },
  {
   "cell_type": "code",
   "execution_count": 8,
   "id": "d4f28a56",
   "metadata": {},
   "outputs": [],
   "source": [
    "# converting playerid and wagerid to string objects to avoid confusion later\n",
    "\n",
    "df['playerid'] = df['playerid'].astype(str)\n",
    "df['wagerid'] = df['wagerid'].astype(str)"
   ]
  },
  {
   "cell_type": "code",
   "execution_count": 9,
   "id": "ad9a4e38",
   "metadata": {
    "scrolled": false
   },
   "outputs": [
    {
     "data": {
      "text/html": [
       "<div>\n",
       "<style scoped>\n",
       "    .dataframe tbody tr th:only-of-type {\n",
       "        vertical-align: middle;\n",
       "    }\n",
       "\n",
       "    .dataframe tbody tr th {\n",
       "        vertical-align: top;\n",
       "    }\n",
       "\n",
       "    .dataframe thead th {\n",
       "        text-align: right;\n",
       "    }\n",
       "</style>\n",
       "<table border=\"1\" class=\"dataframe\">\n",
       "  <thead>\n",
       "    <tr style=\"text-align: right;\">\n",
       "      <th></th>\n",
       "      <th>state</th>\n",
       "      <th>playerid</th>\n",
       "      <th>wagerid</th>\n",
       "      <th>event_start</th>\n",
       "      <th>placed_date</th>\n",
       "      <th>settled_date</th>\n",
       "      <th>sportname</th>\n",
       "      <th>bet_type</th>\n",
       "      <th>result</th>\n",
       "      <th>net_stake</th>\n",
       "      <th>ggr</th>\n",
       "      <th>legresult</th>\n",
       "      <th>decimalodds</th>\n",
       "    </tr>\n",
       "  </thead>\n",
       "  <tbody>\n",
       "    <tr>\n",
       "      <th>0</th>\n",
       "      <td>State1</td>\n",
       "      <td>30651211.8</td>\n",
       "      <td>1693004.1579375</td>\n",
       "      <td>2021-04-28 00:30:00+00</td>\n",
       "      <td>2021-04-27</td>\n",
       "      <td>2021-04-27</td>\n",
       "      <td>nhl</td>\n",
       "      <td>straight</td>\n",
       "      <td>won</td>\n",
       "      <td>6.64</td>\n",
       "      <td>-4.96</td>\n",
       "      <td>won</td>\n",
       "      <td>1.74627</td>\n",
       "    </tr>\n",
       "    <tr>\n",
       "      <th>1</th>\n",
       "      <td>State1</td>\n",
       "      <td>22237170.912</td>\n",
       "      <td>1696370.6029375</td>\n",
       "      <td>2021-04-28 01:45:00+00</td>\n",
       "      <td>2021-04-27</td>\n",
       "      <td>2021-04-27</td>\n",
       "      <td>nba</td>\n",
       "      <td>parlay</td>\n",
       "      <td>lost</td>\n",
       "      <td>5.00</td>\n",
       "      <td>5.00</td>\n",
       "      <td>won</td>\n",
       "      <td>1.78125</td>\n",
       "    </tr>\n",
       "    <tr>\n",
       "      <th>2</th>\n",
       "      <td>State1</td>\n",
       "      <td>22237170.912</td>\n",
       "      <td>1696370.6029375</td>\n",
       "      <td>2021-04-28 01:45:00+00</td>\n",
       "      <td>2021-04-27</td>\n",
       "      <td>2021-04-27</td>\n",
       "      <td>nba</td>\n",
       "      <td>parlay</td>\n",
       "      <td>lost</td>\n",
       "      <td>5.00</td>\n",
       "      <td>5.00</td>\n",
       "      <td>lost</td>\n",
       "      <td>1.86207</td>\n",
       "    </tr>\n",
       "    <tr>\n",
       "      <th>3</th>\n",
       "      <td>State1</td>\n",
       "      <td>22237170.912</td>\n",
       "      <td>1696370.6029375</td>\n",
       "      <td>2021-04-28 01:45:00+00</td>\n",
       "      <td>2021-04-27</td>\n",
       "      <td>2021-04-27</td>\n",
       "      <td>nba</td>\n",
       "      <td>parlay</td>\n",
       "      <td>lost</td>\n",
       "      <td>5.00</td>\n",
       "      <td>5.00</td>\n",
       "      <td>lost</td>\n",
       "      <td>1.74627</td>\n",
       "    </tr>\n",
       "    <tr>\n",
       "      <th>4</th>\n",
       "      <td>State1</td>\n",
       "      <td>22237170.912</td>\n",
       "      <td>1696370.6029375</td>\n",
       "      <td>2021-04-28 01:45:00+00</td>\n",
       "      <td>2021-04-27</td>\n",
       "      <td>2021-04-27</td>\n",
       "      <td>nba</td>\n",
       "      <td>parlay</td>\n",
       "      <td>lost</td>\n",
       "      <td>5.00</td>\n",
       "      <td>5.00</td>\n",
       "      <td>lost</td>\n",
       "      <td>1.78125</td>\n",
       "    </tr>\n",
       "  </tbody>\n",
       "</table>\n",
       "</div>"
      ],
      "text/plain": [
       "    state      playerid          wagerid             event_start placed_date  \\\n",
       "0  State1    30651211.8  1693004.1579375  2021-04-28 00:30:00+00  2021-04-27   \n",
       "1  State1  22237170.912  1696370.6029375  2021-04-28 01:45:00+00  2021-04-27   \n",
       "2  State1  22237170.912  1696370.6029375  2021-04-28 01:45:00+00  2021-04-27   \n",
       "3  State1  22237170.912  1696370.6029375  2021-04-28 01:45:00+00  2021-04-27   \n",
       "4  State1  22237170.912  1696370.6029375  2021-04-28 01:45:00+00  2021-04-27   \n",
       "\n",
       "  settled_date sportname  bet_type result  net_stake   ggr legresult  \\\n",
       "0   2021-04-27       nhl  straight    won       6.64 -4.96       won   \n",
       "1   2021-04-27       nba    parlay   lost       5.00  5.00       won   \n",
       "2   2021-04-27       nba    parlay   lost       5.00  5.00      lost   \n",
       "3   2021-04-27       nba    parlay   lost       5.00  5.00      lost   \n",
       "4   2021-04-27       nba    parlay   lost       5.00  5.00      lost   \n",
       "\n",
       "   decimalodds  \n",
       "0      1.74627  \n",
       "1      1.78125  \n",
       "2      1.86207  \n",
       "3      1.74627  \n",
       "4      1.78125  "
      ]
     },
     "execution_count": 9,
     "metadata": {},
     "output_type": "execute_result"
    }
   ],
   "source": [
    "df.head()"
   ]
  },
  {
   "cell_type": "code",
   "execution_count": 10,
   "id": "c7b57f5a",
   "metadata": {},
   "outputs": [
    {
     "data": {
      "text/plain": [
       "state                 3\n",
       "playerid          36387\n",
       "wagerid         2401372\n",
       "event_start       11991\n",
       "placed_date         366\n",
       "settled_date        367\n",
       "sportname             7\n",
       "bet_type              2\n",
       "result                2\n",
       "net_stake         31695\n",
       "ggr               96958\n",
       "legresult             5\n",
       "decimalodds       18694\n",
       "dtype: int64"
      ]
     },
     "execution_count": 10,
     "metadata": {},
     "output_type": "execute_result"
    }
   ],
   "source": [
    "# unique value count of every column\n",
    "\n",
    "df.nunique()"
   ]
  },
  {
   "cell_type": "markdown",
   "id": "b6989ed4",
   "metadata": {},
   "source": [
    "## Adjusting Dataframe + more EDA"
   ]
  },
  {
   "cell_type": "markdown",
   "id": "b3ea4ff6",
   "metadata": {},
   "source": [
    "Changing the dataframe so it does not list each leg of a parlay bet as an individual bets."
   ]
  },
  {
   "cell_type": "code",
   "execution_count": 11,
   "id": "1026bfe6",
   "metadata": {},
   "outputs": [],
   "source": [
    "# columns\n",
    "agg = {x:'min' for x in df.columns if x not in ['wagerid', 'net_stake', 'ggr','decimalodds']}\n",
    "agg.update({'state':'min', 'net_stake':'sum','ggr':'sum','decimalodds':np.prod})\n",
    "\n",
    "# new dataframe grouping by wagerid value\n",
    "grouped = df.groupby(['wagerid']).agg(agg)\n",
    "\n",
    "# resetting index so wagerid is a column\n",
    "grouped = grouped.reset_index()\n",
    "\n",
    "# drop legresult column because it is not needed here\n",
    "grouped.drop(columns=['legresult'], inplace=True)\n",
    "\n",
    "# round monetary values to 2 decimal places\n",
    "grouped[['net_stake', 'ggr']] = grouped[['net_stake', 'ggr']].round(2)"
   ]
  },
  {
   "cell_type": "code",
   "execution_count": 12,
   "id": "af61eb09",
   "metadata": {},
   "outputs": [
    {
     "data": {
      "text/html": [
       "<div>\n",
       "<style scoped>\n",
       "    .dataframe tbody tr th:only-of-type {\n",
       "        vertical-align: middle;\n",
       "    }\n",
       "\n",
       "    .dataframe tbody tr th {\n",
       "        vertical-align: top;\n",
       "    }\n",
       "\n",
       "    .dataframe thead th {\n",
       "        text-align: right;\n",
       "    }\n",
       "</style>\n",
       "<table border=\"1\" class=\"dataframe\">\n",
       "  <thead>\n",
       "    <tr style=\"text-align: right;\">\n",
       "      <th></th>\n",
       "      <th>wagerid</th>\n",
       "      <th>state</th>\n",
       "      <th>playerid</th>\n",
       "      <th>event_start</th>\n",
       "      <th>placed_date</th>\n",
       "      <th>settled_date</th>\n",
       "      <th>sportname</th>\n",
       "      <th>bet_type</th>\n",
       "      <th>result</th>\n",
       "      <th>net_stake</th>\n",
       "      <th>ggr</th>\n",
       "      <th>decimalodds</th>\n",
       "    </tr>\n",
       "  </thead>\n",
       "  <tbody>\n",
       "    <tr>\n",
       "      <th>357760</th>\n",
       "      <td>1696370.6029375</td>\n",
       "      <td>State1</td>\n",
       "      <td>22237170.912</td>\n",
       "      <td>2021-04-28 01:45:00+00</td>\n",
       "      <td>2021-04-27</td>\n",
       "      <td>2021-04-27</td>\n",
       "      <td>nba</td>\n",
       "      <td>parlay</td>\n",
       "      <td>lost</td>\n",
       "      <td>20.0</td>\n",
       "      <td>20.0</td>\n",
       "      <td>10.317088</td>\n",
       "    </tr>\n",
       "  </tbody>\n",
       "</table>\n",
       "</div>"
      ],
      "text/plain": [
       "                wagerid   state      playerid             event_start  \\\n",
       "357760  1696370.6029375  State1  22237170.912  2021-04-28 01:45:00+00   \n",
       "\n",
       "       placed_date settled_date sportname bet_type result  net_stake   ggr  \\\n",
       "357760  2021-04-27   2021-04-27       nba   parlay   lost       20.0  20.0   \n",
       "\n",
       "        decimalodds  \n",
       "357760    10.317088  "
      ]
     },
     "execution_count": 12,
     "metadata": {},
     "output_type": "execute_result"
    }
   ],
   "source": [
    "# testing to confirm grouping worked as intended\n",
    "grouped[grouped['wagerid'] == '1696370.6029375']"
   ]
  },
  {
   "cell_type": "code",
   "execution_count": 13,
   "id": "1036f517",
   "metadata": {},
   "outputs": [
    {
     "data": {
      "text/html": [
       "<div>\n",
       "<style scoped>\n",
       "    .dataframe tbody tr th:only-of-type {\n",
       "        vertical-align: middle;\n",
       "    }\n",
       "\n",
       "    .dataframe tbody tr th {\n",
       "        vertical-align: top;\n",
       "    }\n",
       "\n",
       "    .dataframe thead th {\n",
       "        text-align: right;\n",
       "    }\n",
       "</style>\n",
       "<table border=\"1\" class=\"dataframe\">\n",
       "  <thead>\n",
       "    <tr style=\"text-align: right;\">\n",
       "      <th></th>\n",
       "      <th>net_stake</th>\n",
       "      <th>ggr</th>\n",
       "      <th>decimalodds</th>\n",
       "    </tr>\n",
       "  </thead>\n",
       "  <tbody>\n",
       "    <tr>\n",
       "      <th>count</th>\n",
       "      <td>2.401372e+06</td>\n",
       "      <td>2.401372e+06</td>\n",
       "      <td>2.401372e+06</td>\n",
       "    </tr>\n",
       "    <tr>\n",
       "      <th>mean</th>\n",
       "      <td>4.103786e+01</td>\n",
       "      <td>4.257739e+00</td>\n",
       "      <td>1.846897e+01</td>\n",
       "    </tr>\n",
       "    <tr>\n",
       "      <th>std</th>\n",
       "      <td>1.117049e+02</td>\n",
       "      <td>1.403621e+02</td>\n",
       "      <td>2.751939e+03</td>\n",
       "    </tr>\n",
       "    <tr>\n",
       "      <th>min</th>\n",
       "      <td>4.010000e+00</td>\n",
       "      <td>-2.100000e+04</td>\n",
       "      <td>1.001000e+00</td>\n",
       "    </tr>\n",
       "    <tr>\n",
       "      <th>25%</th>\n",
       "      <td>1.000000e+01</td>\n",
       "      <td>-9.010000e+00</td>\n",
       "      <td>1.909090e+00</td>\n",
       "    </tr>\n",
       "    <tr>\n",
       "      <th>50%</th>\n",
       "      <td>2.000000e+01</td>\n",
       "      <td>1.000000e+01</td>\n",
       "      <td>2.400000e+00</td>\n",
       "    </tr>\n",
       "    <tr>\n",
       "      <th>75%</th>\n",
       "      <td>4.000000e+01</td>\n",
       "      <td>2.500000e+01</td>\n",
       "      <td>6.900000e+00</td>\n",
       "    </tr>\n",
       "    <tr>\n",
       "      <th>max</th>\n",
       "      <td>1.967200e+04</td>\n",
       "      <td>1.967200e+04</td>\n",
       "      <td>4.169540e+06</td>\n",
       "    </tr>\n",
       "  </tbody>\n",
       "</table>\n",
       "</div>"
      ],
      "text/plain": [
       "          net_stake           ggr   decimalodds\n",
       "count  2.401372e+06  2.401372e+06  2.401372e+06\n",
       "mean   4.103786e+01  4.257739e+00  1.846897e+01\n",
       "std    1.117049e+02  1.403621e+02  2.751939e+03\n",
       "min    4.010000e+00 -2.100000e+04  1.001000e+00\n",
       "25%    1.000000e+01 -9.010000e+00  1.909090e+00\n",
       "50%    2.000000e+01  1.000000e+01  2.400000e+00\n",
       "75%    4.000000e+01  2.500000e+01  6.900000e+00\n",
       "max    1.967200e+04  1.967200e+04  4.169540e+06"
      ]
     },
     "execution_count": 13,
     "metadata": {},
     "output_type": "execute_result"
    }
   ],
   "source": [
    "grouped.describe()"
   ]
  },
  {
   "cell_type": "code",
   "execution_count": 14,
   "id": "d52c4495",
   "metadata": {},
   "outputs": [
    {
     "data": {
      "text/plain": [
       "nfl                   0.314255\n",
       "nba                   0.301449\n",
       "college basketball    0.141945\n",
       "mlb                   0.122300\n",
       "college football      0.072277\n",
       "nhl                   0.042657\n",
       "champions league      0.005117\n",
       "Name: sportname, dtype: float64"
      ]
     },
     "execution_count": 14,
     "metadata": {},
     "output_type": "execute_result"
    }
   ],
   "source": [
    "grouped['sportname'].value_counts(normalize=True)"
   ]
  },
  {
   "cell_type": "code",
   "execution_count": 15,
   "id": "c964f53d",
   "metadata": {},
   "outputs": [
    {
     "data": {
      "text/plain": [
       "<AxesSubplot:>"
      ]
     },
     "execution_count": 15,
     "metadata": {},
     "output_type": "execute_result"
    },
    {
     "data": {
      "image/png": "[encoded data removed]",
      "text/plain": [
       "<Figure size 432x288 with 1 Axes>"
      ]
     },
     "metadata": {
      "needs_background": "light"
     },
     "output_type": "display_data"
    }
   ],
   "source": [
    "grouped['sportname'].value_counts().plot(kind='barh')"
   ]
  },
  {
   "cell_type": "code",
   "execution_count": 16,
   "id": "dcff3daa",
   "metadata": {},
   "outputs": [
    {
     "data": {
      "text/html": [
       "<style type=\"text/css\">\n",
       "#T_3271c_row0_col0, #T_3271c_row1_col1, #T_3271c_row2_col2 {\n",
       "  background-color: #b40426;\n",
       "  color: #f1f1f1;\n",
       "}\n",
       "#T_3271c_row0_col1, #T_3271c_row1_col0 {\n",
       "  background-color: #4a63d3;\n",
       "  color: #f1f1f1;\n",
       "}\n",
       "#T_3271c_row0_col2, #T_3271c_row1_col2, #T_3271c_row2_col0, #T_3271c_row2_col1 {\n",
       "  background-color: #3b4cc0;\n",
       "  color: #f1f1f1;\n",
       "}\n",
       "</style>\n",
       "<table id=\"T_3271c\">\n",
       "  <thead>\n",
       "    <tr>\n",
       "      <th class=\"blank level0\" >&nbsp;</th>\n",
       "      <th id=\"T_3271c_level0_col0\" class=\"col_heading level0 col0\" >net_stake</th>\n",
       "      <th id=\"T_3271c_level0_col1\" class=\"col_heading level0 col1\" >ggr</th>\n",
       "      <th id=\"T_3271c_level0_col2\" class=\"col_heading level0 col2\" >decimalodds</th>\n",
       "    </tr>\n",
       "  </thead>\n",
       "  <tbody>\n",
       "    <tr>\n",
       "      <th id=\"T_3271c_level0_row0\" class=\"row_heading level0 row0\" >net_stake</th>\n",
       "      <td id=\"T_3271c_row0_col0\" class=\"data row0 col0\" >1.000000</td>\n",
       "      <td id=\"T_3271c_row0_col1\" class=\"data row0 col1\" >0.055301</td>\n",
       "      <td id=\"T_3271c_row0_col2\" class=\"data row0 col2\" >0.000866</td>\n",
       "    </tr>\n",
       "    <tr>\n",
       "      <th id=\"T_3271c_level0_row1\" class=\"row_heading level0 row1\" >ggr</th>\n",
       "      <td id=\"T_3271c_row1_col0\" class=\"data row1 col0\" >0.055301</td>\n",
       "      <td id=\"T_3271c_row1_col1\" class=\"data row1 col1\" >1.000000</td>\n",
       "      <td id=\"T_3271c_row1_col2\" class=\"data row1 col2\" >0.001375</td>\n",
       "    </tr>\n",
       "    <tr>\n",
       "      <th id=\"T_3271c_level0_row2\" class=\"row_heading level0 row2\" >decimalodds</th>\n",
       "      <td id=\"T_3271c_row2_col0\" class=\"data row2 col0\" >0.000866</td>\n",
       "      <td id=\"T_3271c_row2_col1\" class=\"data row2 col1\" >0.001375</td>\n",
       "      <td id=\"T_3271c_row2_col2\" class=\"data row2 col2\" >1.000000</td>\n",
       "    </tr>\n",
       "  </tbody>\n",
       "</table>\n"
      ],
      "text/plain": [
       "<pandas.io.formats.style.Styler at 0x7f7f882457c0>"
      ]
     },
     "execution_count": 16,
     "metadata": {},
     "output_type": "execute_result"
    }
   ],
   "source": [
    "grouped.corr().style.background_gradient(cmap='coolwarm')"
   ]
  },
  {
   "cell_type": "markdown",
   "id": "fab891c5",
   "metadata": {},
   "source": [
    "## GGR-related analysis"
   ]
  },
  {
   "cell_type": "code",
   "execution_count": 17,
   "id": "fc53b387",
   "metadata": {},
   "outputs": [
    {
     "data": {
      "text/plain": [
       "<seaborn.axisgrid.FacetGrid at 0x7f7f88254ca0>"
      ]
     },
     "execution_count": 17,
     "metadata": {},
     "output_type": "execute_result"
    },
    {
     "data": {
      "image/png": "[encoded data removed]",
      "text/plain": [
       "<Figure size 720x720 with 1 Axes>"
      ]
     },
     "metadata": {
      "needs_background": "light"
     },
     "output_type": "display_data"
    }
   ],
   "source": [
    "sns.catplot(data=grouped, x=\"sportname\", y=\"ggr\", height=10)"
   ]
  },
  {
   "cell_type": "code",
   "execution_count": 18,
   "id": "3e623f19",
   "metadata": {},
   "outputs": [
    {
     "data": {
      "text/html": [
       "<div>\n",
       "<style scoped>\n",
       "    .dataframe tbody tr th:only-of-type {\n",
       "        vertical-align: middle;\n",
       "    }\n",
       "\n",
       "    .dataframe tbody tr th {\n",
       "        vertical-align: top;\n",
       "    }\n",
       "\n",
       "    .dataframe thead tr th {\n",
       "        text-align: left;\n",
       "    }\n",
       "\n",
       "    .dataframe thead tr:last-of-type th {\n",
       "        text-align: right;\n",
       "    }\n",
       "</style>\n",
       "<table border=\"1\" class=\"dataframe\">\n",
       "  <thead>\n",
       "    <tr>\n",
       "      <th></th>\n",
       "      <th colspan=\"8\" halign=\"left\">net_stake</th>\n",
       "      <th colspan=\"8\" halign=\"left\">ggr</th>\n",
       "    </tr>\n",
       "    <tr>\n",
       "      <th></th>\n",
       "      <th>count</th>\n",
       "      <th>mean</th>\n",
       "      <th>std</th>\n",
       "      <th>min</th>\n",
       "      <th>25%</th>\n",
       "      <th>50%</th>\n",
       "      <th>75%</th>\n",
       "      <th>max</th>\n",
       "      <th>count</th>\n",
       "      <th>mean</th>\n",
       "      <th>std</th>\n",
       "      <th>min</th>\n",
       "      <th>25%</th>\n",
       "      <th>50%</th>\n",
       "      <th>75%</th>\n",
       "      <th>max</th>\n",
       "    </tr>\n",
       "    <tr>\n",
       "      <th>sportname</th>\n",
       "      <th></th>\n",
       "      <th></th>\n",
       "      <th></th>\n",
       "      <th></th>\n",
       "      <th></th>\n",
       "      <th></th>\n",
       "      <th></th>\n",
       "      <th></th>\n",
       "      <th></th>\n",
       "      <th></th>\n",
       "      <th></th>\n",
       "      <th></th>\n",
       "      <th></th>\n",
       "      <th></th>\n",
       "      <th></th>\n",
       "      <th></th>\n",
       "    </tr>\n",
       "  </thead>\n",
       "  <tbody>\n",
       "    <tr>\n",
       "      <th>champions league</th>\n",
       "      <td>12289.0</td>\n",
       "      <td>36.149076</td>\n",
       "      <td>93.815174</td>\n",
       "      <td>4.06</td>\n",
       "      <td>10.0</td>\n",
       "      <td>20.0</td>\n",
       "      <td>37.31</td>\n",
       "      <td>4850.0</td>\n",
       "      <td>12289.0</td>\n",
       "      <td>6.505275</td>\n",
       "      <td>108.118876</td>\n",
       "      <td>-5312.42</td>\n",
       "      <td>-3.820</td>\n",
       "      <td>10.0</td>\n",
       "      <td>25.0</td>\n",
       "      <td>3150.00</td>\n",
       "    </tr>\n",
       "    <tr>\n",
       "      <th>college basketball</th>\n",
       "      <td>340862.0</td>\n",
       "      <td>42.986723</td>\n",
       "      <td>123.462828</td>\n",
       "      <td>4.01</td>\n",
       "      <td>10.0</td>\n",
       "      <td>20.0</td>\n",
       "      <td>44.00</td>\n",
       "      <td>12000.0</td>\n",
       "      <td>340862.0</td>\n",
       "      <td>2.951636</td>\n",
       "      <td>134.307160</td>\n",
       "      <td>-17424.72</td>\n",
       "      <td>-12.410</td>\n",
       "      <td>7.5</td>\n",
       "      <td>25.0</td>\n",
       "      <td>7513.93</td>\n",
       "    </tr>\n",
       "    <tr>\n",
       "      <th>college football</th>\n",
       "      <td>173565.0</td>\n",
       "      <td>47.276433</td>\n",
       "      <td>109.050512</td>\n",
       "      <td>4.01</td>\n",
       "      <td>10.0</td>\n",
       "      <td>23.0</td>\n",
       "      <td>50.00</td>\n",
       "      <td>10000.0</td>\n",
       "      <td>173565.0</td>\n",
       "      <td>3.893866</td>\n",
       "      <td>138.167493</td>\n",
       "      <td>-11004.09</td>\n",
       "      <td>-14.340</td>\n",
       "      <td>10.0</td>\n",
       "      <td>25.0</td>\n",
       "      <td>6000.00</td>\n",
       "    </tr>\n",
       "    <tr>\n",
       "      <th>mlb</th>\n",
       "      <td>293687.0</td>\n",
       "      <td>40.811768</td>\n",
       "      <td>105.735724</td>\n",
       "      <td>4.01</td>\n",
       "      <td>10.0</td>\n",
       "      <td>20.0</td>\n",
       "      <td>43.00</td>\n",
       "      <td>12400.0</td>\n",
       "      <td>293687.0</td>\n",
       "      <td>4.462842</td>\n",
       "      <td>131.985883</td>\n",
       "      <td>-12018.13</td>\n",
       "      <td>-9.095</td>\n",
       "      <td>10.0</td>\n",
       "      <td>25.0</td>\n",
       "      <td>7000.00</td>\n",
       "    </tr>\n",
       "    <tr>\n",
       "      <th>nba</th>\n",
       "      <td>723890.0</td>\n",
       "      <td>39.546927</td>\n",
       "      <td>103.590461</td>\n",
       "      <td>4.01</td>\n",
       "      <td>10.0</td>\n",
       "      <td>20.0</td>\n",
       "      <td>40.00</td>\n",
       "      <td>19672.0</td>\n",
       "      <td>723890.0</td>\n",
       "      <td>4.479795</td>\n",
       "      <td>142.979736</td>\n",
       "      <td>-20805.63</td>\n",
       "      <td>-8.200</td>\n",
       "      <td>10.0</td>\n",
       "      <td>25.0</td>\n",
       "      <td>19672.00</td>\n",
       "    </tr>\n",
       "    <tr>\n",
       "      <th>nfl</th>\n",
       "      <td>754643.0</td>\n",
       "      <td>41.180802</td>\n",
       "      <td>117.923971</td>\n",
       "      <td>4.01</td>\n",
       "      <td>10.0</td>\n",
       "      <td>20.0</td>\n",
       "      <td>40.00</td>\n",
       "      <td>15000.0</td>\n",
       "      <td>754643.0</td>\n",
       "      <td>4.765587</td>\n",
       "      <td>148.126584</td>\n",
       "      <td>-21000.00</td>\n",
       "      <td>-5.150</td>\n",
       "      <td>10.0</td>\n",
       "      <td>25.0</td>\n",
       "      <td>12000.00</td>\n",
       "    </tr>\n",
       "    <tr>\n",
       "      <th>nhl</th>\n",
       "      <td>102436.0</td>\n",
       "      <td>34.700058</td>\n",
       "      <td>100.599760</td>\n",
       "      <td>4.01</td>\n",
       "      <td>10.0</td>\n",
       "      <td>15.0</td>\n",
       "      <td>26.00</td>\n",
       "      <td>7900.0</td>\n",
       "      <td>102436.0</td>\n",
       "      <td>3.052232</td>\n",
       "      <td>109.636645</td>\n",
       "      <td>-9899.44</td>\n",
       "      <td>-10.000</td>\n",
       "      <td>5.0</td>\n",
       "      <td>20.0</td>\n",
       "      <td>7900.00</td>\n",
       "    </tr>\n",
       "  </tbody>\n",
       "</table>\n",
       "</div>"
      ],
      "text/plain": [
       "                   net_stake                                                  \\\n",
       "                       count       mean         std   min   25%   50%    75%   \n",
       "sportname                                                                      \n",
       "champions league     12289.0  36.149076   93.815174  4.06  10.0  20.0  37.31   \n",
       "college basketball  340862.0  42.986723  123.462828  4.01  10.0  20.0  44.00   \n",
       "college football    173565.0  47.276433  109.050512  4.01  10.0  23.0  50.00   \n",
       "mlb                 293687.0  40.811768  105.735724  4.01  10.0  20.0  43.00   \n",
       "nba                 723890.0  39.546927  103.590461  4.01  10.0  20.0  40.00   \n",
       "nfl                 754643.0  41.180802  117.923971  4.01  10.0  20.0  40.00   \n",
       "nhl                 102436.0  34.700058  100.599760  4.01  10.0  15.0  26.00   \n",
       "\n",
       "                                  ggr                                          \\\n",
       "                        max     count      mean         std       min     25%   \n",
       "sportname                                                                       \n",
       "champions league     4850.0   12289.0  6.505275  108.118876  -5312.42  -3.820   \n",
       "college basketball  12000.0  340862.0  2.951636  134.307160 -17424.72 -12.410   \n",
       "college football    10000.0  173565.0  3.893866  138.167493 -11004.09 -14.340   \n",
       "mlb                 12400.0  293687.0  4.462842  131.985883 -12018.13  -9.095   \n",
       "nba                 19672.0  723890.0  4.479795  142.979736 -20805.63  -8.200   \n",
       "nfl                 15000.0  754643.0  4.765587  148.126584 -21000.00  -5.150   \n",
       "nhl                  7900.0  102436.0  3.052232  109.636645  -9899.44 -10.000   \n",
       "\n",
       "                                          \n",
       "                     50%   75%       max  \n",
       "sportname                                 \n",
       "champions league    10.0  25.0   3150.00  \n",
       "college basketball   7.5  25.0   7513.93  \n",
       "college football    10.0  25.0   6000.00  \n",
       "mlb                 10.0  25.0   7000.00  \n",
       "nba                 10.0  25.0  19672.00  \n",
       "nfl                 10.0  25.0  12000.00  \n",
       "nhl                  5.0  20.0   7900.00  "
      ]
     },
     "execution_count": 18,
     "metadata": {},
     "output_type": "execute_result"
    }
   ],
   "source": [
    "grouped.groupby(['sportname'])['net_stake', 'ggr'].describe()"
   ]
  },
  {
   "cell_type": "code",
   "execution_count": 19,
   "id": "33b31707",
   "metadata": {},
   "outputs": [
    {
     "data": {
      "text/plain": [
       "sportname\n",
       "champions league        79943.33\n",
       "college basketball    1006100.38\n",
       "college football       675838.84\n",
       "mlb                   1310678.56\n",
       "nba                   3242879.02\n",
       "nfl                   3596316.60\n",
       "nhl                    312658.48\n",
       "Name: ggr, dtype: float64"
      ]
     },
     "execution_count": 19,
     "metadata": {},
     "output_type": "execute_result"
    }
   ],
   "source": [
    "grouped.groupby(['sportname'])['ggr'].sum()"
   ]
  },
  {
   "cell_type": "code",
   "execution_count": 20,
   "id": "34341fc8",
   "metadata": {},
   "outputs": [
    {
     "data": {
      "text/plain": [
       "10224415.21"
      ]
     },
     "execution_count": 20,
     "metadata": {},
     "output_type": "execute_result"
    }
   ],
   "source": [
    "grouped['ggr'].sum().round(2)"
   ]
  },
  {
   "cell_type": "code",
   "execution_count": 21,
   "id": "53a1d516",
   "metadata": {},
   "outputs": [
    {
     "name": "stdout",
     "output_type": "stream",
     "text": [
      "NFL percentage of total GGR: 0.3517381215585434\n",
      "NBA percentage of total GGR: 0.31717012204554235\n",
      "CBB percentage of total GGR: 0.09840175299375385\n",
      "MLB percentage of total GGR: 0.12819105377470286\n",
      "CFB percentage of total GGR: 0.06610048849923417\n",
      "NHL percentage of total GGR: 0.030579595368369236\n",
      "CL percentage of total GGR: 0.007818865759854054\n"
     ]
    }
   ],
   "source": [
    "# nfl                   0.314255\n",
    "# nba                   0.301449\n",
    "# college basketball    0.141945\n",
    "# mlb                   0.122300\n",
    "# college football      0.072277\n",
    "# nhl                   0.042657\n",
    "# champions league      0.005117\n",
    "\n",
    "print(\"NFL percentage of total GGR:\", 3596316.60/10224415.21)\n",
    "print(\"NBA percentage of total GGR:\", 3242879.02/10224415.21)\n",
    "print(\"CBB percentage of total GGR:\", 1006100.38/10224415.21)\n",
    "print(\"MLB percentage of total GGR:\", 1310678.56/10224415.21)\n",
    "print(\"CFB percentage of total GGR:\", 675838.84/10224415.21)\n",
    "print(\"NHL percentage of total GGR:\", 312658.48/10224415.21)\n",
    "print(\"CL percentage of total GGR:\", 79943.33/10224415.21)"
   ]
  },
  {
   "cell_type": "markdown",
   "id": "bb20cd03",
   "metadata": {},
   "source": [
    "## Bet Type-related analysis"
   ]
  },
  {
   "cell_type": "code",
   "execution_count": 22,
   "id": "560220be",
   "metadata": {},
   "outputs": [
    {
     "data": {
      "text/plain": [
       "straight    0.714134\n",
       "parlay      0.285866\n",
       "Name: bet_type, dtype: float64"
      ]
     },
     "execution_count": 22,
     "metadata": {},
     "output_type": "execute_result"
    }
   ],
   "source": [
    "grouped['bet_type'].value_counts(normalize=True)"
   ]
  },
  {
   "cell_type": "code",
   "execution_count": 23,
   "id": "e74c4524",
   "metadata": {},
   "outputs": [
    {
     "data": {
      "text/html": [
       "<div>\n",
       "<style scoped>\n",
       "    .dataframe tbody tr th:only-of-type {\n",
       "        vertical-align: middle;\n",
       "    }\n",
       "\n",
       "    .dataframe tbody tr th {\n",
       "        vertical-align: top;\n",
       "    }\n",
       "\n",
       "    .dataframe thead tr th {\n",
       "        text-align: left;\n",
       "    }\n",
       "\n",
       "    .dataframe thead tr:last-of-type th {\n",
       "        text-align: right;\n",
       "    }\n",
       "</style>\n",
       "<table border=\"1\" class=\"dataframe\">\n",
       "  <thead>\n",
       "    <tr>\n",
       "      <th></th>\n",
       "      <th colspan=\"8\" halign=\"left\">net_stake</th>\n",
       "      <th colspan=\"8\" halign=\"left\">ggr</th>\n",
       "    </tr>\n",
       "    <tr>\n",
       "      <th></th>\n",
       "      <th>count</th>\n",
       "      <th>mean</th>\n",
       "      <th>std</th>\n",
       "      <th>min</th>\n",
       "      <th>25%</th>\n",
       "      <th>50%</th>\n",
       "      <th>75%</th>\n",
       "      <th>max</th>\n",
       "      <th>count</th>\n",
       "      <th>mean</th>\n",
       "      <th>std</th>\n",
       "      <th>min</th>\n",
       "      <th>25%</th>\n",
       "      <th>50%</th>\n",
       "      <th>75%</th>\n",
       "      <th>max</th>\n",
       "    </tr>\n",
       "    <tr>\n",
       "      <th>bet_type</th>\n",
       "      <th></th>\n",
       "      <th></th>\n",
       "      <th></th>\n",
       "      <th></th>\n",
       "      <th></th>\n",
       "      <th></th>\n",
       "      <th></th>\n",
       "      <th></th>\n",
       "      <th></th>\n",
       "      <th></th>\n",
       "      <th></th>\n",
       "      <th></th>\n",
       "      <th></th>\n",
       "      <th></th>\n",
       "      <th></th>\n",
       "      <th></th>\n",
       "    </tr>\n",
       "  </thead>\n",
       "  <tbody>\n",
       "    <tr>\n",
       "      <th>parlay</th>\n",
       "      <td>686470.0</td>\n",
       "      <td>45.258926</td>\n",
       "      <td>78.105906</td>\n",
       "      <td>4.01</td>\n",
       "      <td>20.00</td>\n",
       "      <td>25.0</td>\n",
       "      <td>50.0</td>\n",
       "      <td>8000.0</td>\n",
       "      <td>686470.0</td>\n",
       "      <td>9.263691</td>\n",
       "      <td>182.876639</td>\n",
       "      <td>-20805.63</td>\n",
       "      <td>10.0</td>\n",
       "      <td>25.0</td>\n",
       "      <td>47.42</td>\n",
       "      <td>7222.22</td>\n",
       "    </tr>\n",
       "    <tr>\n",
       "      <th>straight</th>\n",
       "      <td>1714902.0</td>\n",
       "      <td>39.348176</td>\n",
       "      <td>122.559705</td>\n",
       "      <td>4.01</td>\n",
       "      <td>8.02</td>\n",
       "      <td>15.0</td>\n",
       "      <td>30.0</td>\n",
       "      <td>19672.0</td>\n",
       "      <td>1714902.0</td>\n",
       "      <td>2.253872</td>\n",
       "      <td>119.106903</td>\n",
       "      <td>-21000.00</td>\n",
       "      <td>-10.8</td>\n",
       "      <td>5.0</td>\n",
       "      <td>20.00</td>\n",
       "      <td>19672.00</td>\n",
       "    </tr>\n",
       "  </tbody>\n",
       "</table>\n",
       "</div>"
      ],
      "text/plain": [
       "          net_stake                                                           \\\n",
       "              count       mean         std   min    25%   50%   75%      max   \n",
       "bet_type                                                                       \n",
       "parlay     686470.0  45.258926   78.105906  4.01  20.00  25.0  50.0   8000.0   \n",
       "straight  1714902.0  39.348176  122.559705  4.01   8.02  15.0  30.0  19672.0   \n",
       "\n",
       "                ggr                                                     \\\n",
       "              count      mean         std       min   25%   50%    75%   \n",
       "bet_type                                                                 \n",
       "parlay     686470.0  9.263691  182.876639 -20805.63  10.0  25.0  47.42   \n",
       "straight  1714902.0  2.253872  119.106903 -21000.00 -10.8   5.0  20.00   \n",
       "\n",
       "                    \n",
       "               max  \n",
       "bet_type            \n",
       "parlay     7222.22  \n",
       "straight  19672.00  "
      ]
     },
     "execution_count": 23,
     "metadata": {},
     "output_type": "execute_result"
    }
   ],
   "source": [
    "# mean, std, min, max of net_stake and ggr grouped by the type of bet\n",
    "\n",
    "grouped.groupby(['bet_type'])['net_stake', 'ggr'].describe()"
   ]
  },
  {
   "cell_type": "code",
   "execution_count": 24,
   "id": "b0efdce9",
   "metadata": {},
   "outputs": [
    {
     "data": {
      "text/plain": [
       "sportname           bet_type\n",
       "champions league    straight    0.610221\n",
       "                    parlay      0.389779\n",
       "college basketball  straight    0.736354\n",
       "                    parlay      0.263646\n",
       "college football    straight    0.750624\n",
       "                    parlay      0.249376\n",
       "mlb                 straight    0.681069\n",
       "                    parlay      0.318931\n",
       "nba                 straight    0.699159\n",
       "                    parlay      0.300841\n",
       "nfl                 straight    0.712126\n",
       "                    parlay      0.287874\n",
       "nhl                 straight    0.806260\n",
       "                    parlay      0.193740\n",
       "Name: bet_type, dtype: float64"
      ]
     },
     "execution_count": 24,
     "metadata": {},
     "output_type": "execute_result"
    }
   ],
   "source": [
    "# which type of bet is more common in each sport\n",
    "\n",
    "grouped['bet_type'].groupby(grouped['sportname']).value_counts(normalize=True)"
   ]
  },
  {
   "cell_type": "code",
   "execution_count": 25,
   "id": "42ce766a",
   "metadata": {},
   "outputs": [
    {
     "data": {
      "text/plain": [
       "bet_type  sportname         \n",
       "parlay    nba                   0.317240\n",
       "          nfl                   0.316462\n",
       "          mlb                   0.136446\n",
       "          college basketball    0.130912\n",
       "          college football      0.063052\n",
       "          nhl                   0.028910\n",
       "          champions league      0.006978\n",
       "straight  nfl                   0.313371\n",
       "          nba                   0.295127\n",
       "          college basketball    0.146361\n",
       "          mlb                   0.116637\n",
       "          college football      0.075971\n",
       "          nhl                   0.048160\n",
       "          champions league      0.004373\n",
       "Name: sportname, dtype: float64"
      ]
     },
     "execution_count": 25,
     "metadata": {},
     "output_type": "execute_result"
    }
   ],
   "source": [
    "# which sport are players placing which bets on\n",
    "\n",
    "grouped['sportname'].groupby(grouped['bet_type']).value_counts(normalize=True)"
   ]
  },
  {
   "cell_type": "markdown",
   "id": "588e7075",
   "metadata": {},
   "source": [
    "## Location-related analysis"
   ]
  },
  {
   "cell_type": "code",
   "execution_count": 26,
   "id": "9bd2a056",
   "metadata": {},
   "outputs": [
    {
     "data": {
      "text/plain": [
       "State2    0.356947\n",
       "State3    0.347574\n",
       "State1    0.295479\n",
       "Name: state, dtype: float64"
      ]
     },
     "execution_count": 26,
     "metadata": {},
     "output_type": "execute_result"
    }
   ],
   "source": [
    "# which state contributed to how much of the total bets\n",
    "\n",
    "grouped['state'].value_counts(normalize=True)"
   ]
  },
  {
   "cell_type": "code",
   "execution_count": 27,
   "id": "b1ed5bb4",
   "metadata": {},
   "outputs": [
    {
     "data": {
      "text/plain": [
       "state   sportname         \n",
       "State1  nba                   0.305781\n",
       "        nfl                   0.245122\n",
       "        college basketball    0.183922\n",
       "        mlb                   0.151403\n",
       "        college football      0.070347\n",
       "        nhl                   0.039528\n",
       "        champions league      0.003897\n",
       "State2  nfl                   0.342554\n",
       "        nba                   0.293526\n",
       "        mlb                   0.138417\n",
       "        college basketball    0.108416\n",
       "        college football      0.068222\n",
       "        nhl                   0.042822\n",
       "        champions league      0.006044\n",
       "State3  nfl                   0.343964\n",
       "        nba                   0.305902\n",
       "        college basketball    0.140692\n",
       "        mlb                   0.081006\n",
       "        college football      0.078084\n",
       "        nhl                   0.045149\n",
       "        champions league      0.005203\n",
       "Name: sportname, dtype: float64"
      ]
     },
     "execution_count": 27,
     "metadata": {},
     "output_type": "execute_result"
    }
   ],
   "source": [
    "# amount of bets from each state that are placed toward each sport\n",
    "\n",
    "grouped['sportname'].groupby(grouped['state']).value_counts(normalize=True)"
   ]
  },
  {
   "cell_type": "code",
   "execution_count": 28,
   "id": "4ac438bd",
   "metadata": {},
   "outputs": [
    {
     "data": {
      "text/plain": [
       "sportname           state \n",
       "champions league    State2    0.421597\n",
       "                    State3    0.353405\n",
       "                    State1    0.224998\n",
       "college basketball  State1    0.382862\n",
       "                    State3    0.344506\n",
       "                    State2    0.272632\n",
       "college football    State3    0.375496\n",
       "                    State2    0.336917\n",
       "                    State1    0.287587\n",
       "mlb                 State2    0.403988\n",
       "                    State1    0.365794\n",
       "                    State3    0.230218\n",
       "nba                 State3    0.352708\n",
       "                    State2    0.347565\n",
       "                    State1    0.299726\n",
       "nfl                 State2    0.389090\n",
       "                    State3    0.380433\n",
       "                    State1    0.230477\n",
       "nhl                 State3    0.367878\n",
       "                    State2    0.358321\n",
       "                    State1    0.273800\n",
       "Name: state, dtype: float64"
      ]
     },
     "execution_count": 28,
     "metadata": {},
     "output_type": "execute_result"
    }
   ],
   "source": [
    "# another way to look at above data, part of all bets toward a sport that were placed by each state\n",
    "\n",
    "grouped['state'].groupby(grouped['sportname']).value_counts(normalize=True)"
   ]
  },
  {
   "cell_type": "code",
   "execution_count": 29,
   "id": "5271348a",
   "metadata": {},
   "outputs": [
    {
     "data": {
      "text/plain": [
       "<seaborn.axisgrid.FacetGrid at 0x7f7f88234e80>"
      ]
     },
     "execution_count": 29,
     "metadata": {},
     "output_type": "execute_result"
    },
    {
     "data": {
      "image/png": "[encoded data removed]",
      "text/plain": [
       "<Figure size 788.625x720 with 1 Axes>"
      ]
     },
     "metadata": {
      "needs_background": "light"
     },
     "output_type": "display_data"
    }
   ],
   "source": [
    "# visualization of wager distribution across the sports by state\n",
    "\n",
    "sns.displot(grouped, x=\"sportname\", hue=\"state\", height=10)"
   ]
  },
  {
   "cell_type": "code",
   "execution_count": 30,
   "id": "2aaa6237",
   "metadata": {},
   "outputs": [
    {
     "data": {
      "text/plain": [
       "state\n",
       "State1    10543\n",
       "State2    16072\n",
       "State3    14240\n",
       "Name: playerid, dtype: int64"
      ]
     },
     "execution_count": 30,
     "metadata": {},
     "output_type": "execute_result"
    }
   ],
   "source": [
    "# user count by state\n",
    "\n",
    "grouped['playerid'].groupby(grouped['state']).nunique()"
   ]
  },
  {
   "cell_type": "code",
   "execution_count": 31,
   "id": "2f3725ac",
   "metadata": {},
   "outputs": [
    {
     "data": {
      "text/plain": [
       "state\n",
       "State1    3.275773\n",
       "State2    5.756162\n",
       "State3    3.553697\n",
       "Name: ggr, dtype: float64"
      ]
     },
     "execution_count": 31,
     "metadata": {},
     "output_type": "execute_result"
    }
   ],
   "source": [
    "# average ggr by state\n",
    "\n",
    "grouped['ggr'].groupby(grouped['state']).mean()"
   ]
  },
  {
   "cell_type": "markdown",
   "id": "fc529e29",
   "metadata": {},
   "source": [
    "## Date-related analysis"
   ]
  },
  {
   "cell_type": "code",
   "execution_count": 32,
   "id": "a25bdef7",
   "metadata": {},
   "outputs": [
    {
     "data": {
      "text/plain": [
       "<seaborn.axisgrid.FacetGrid at 0x7f7ecc5547f0>"
      ]
     },
     "execution_count": 32,
     "metadata": {},
     "output_type": "execute_result"
    },
    {
     "data": {
      "image/png": "[encoded data removed]",
      "text/plain": [
       "<Figure size 720x720 with 1 Axes>"
      ]
     },
     "metadata": {
      "needs_background": "light"
     },
     "output_type": "display_data"
    }
   ],
   "source": [
    "sns.displot(grouped, x=\"placed_date\", kde=True, height=10)"
   ]
  },
  {
   "cell_type": "markdown",
   "id": "4bb7ed31",
   "metadata": {},
   "source": [
    "## ?"
   ]
  },
  {
   "cell_type": "code",
   "execution_count": 33,
   "id": "5f116b44",
   "metadata": {},
   "outputs": [
    {
     "data": {
      "text/plain": [
       "sportname\n",
       "champions league       3099\n",
       "college basketball    15608\n",
       "college football      13195\n",
       "mlb                   13788\n",
       "nba                   23080\n",
       "nfl                   28367\n",
       "nhl                    8274\n",
       "Name: playerid, dtype: int64"
      ]
     },
     "execution_count": 33,
     "metadata": {},
     "output_type": "execute_result"
    }
   ],
   "source": [
    "grouped['playerid'].groupby(grouped['sportname']).nunique()"
   ]
  },
  {
   "cell_type": "code",
   "execution_count": 34,
   "id": "22433807",
   "metadata": {},
   "outputs": [
    {
     "data": {
      "text/plain": [
       "sportname\n",
       "champions league       12289\n",
       "college basketball    340862\n",
       "college football      173565\n",
       "mlb                   293687\n",
       "nba                   723890\n",
       "nfl                   754643\n",
       "nhl                   102436\n",
       "Name: wagerid, dtype: int64"
      ]
     },
     "execution_count": 34,
     "metadata": {},
     "output_type": "execute_result"
    }
   ],
   "source": [
    "grouped['wagerid'].groupby(grouped['sportname']).nunique()"
   ]
  },
  {
   "cell_type": "code",
   "execution_count": null,
   "id": "90039a3b",
   "metadata": {},
   "outputs": [],
   "source": []
  }
 ],
 "metadata": {
  "kernelspec": {
   "display_name": "Python 3 (ipykernel)",
   "language": "python",
   "name": "python3"
  },
  "language_info": {
   "codemirror_mode": {
    "name": "ipython",
    "version": 3
   },
   "file_extension": ".py",
   "mimetype": "text/x-python",
   "name": "python",
   "nbconvert_exporter": "python",
   "pygments_lexer": "ipython3",
   "version": "3.9.12"
  }
 },
 "nbformat": 4,
 "nbformat_minor": 5
}
